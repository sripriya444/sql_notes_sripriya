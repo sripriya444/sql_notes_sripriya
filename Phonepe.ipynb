{
  "nbformat": 4,
  "nbformat_minor": 0,
  "metadata": {
    "colab": {
      "provenance": [],
      "authorship_tag": "ABX9TyPZpDuzDg3VL6w8PJOz/HCi",
      "include_colab_link": true
    },
    "kernelspec": {
      "name": "python3",
      "display_name": "Python 3"
    },
    "language_info": {
      "name": "python"
    }
  },
  "cells": [
    {
      "cell_type": "markdown",
      "metadata": {
        "id": "view-in-github",
        "colab_type": "text"
      },
      "source": [
        "<a href=\"https://colab.research.google.com/github/sripriya444/sql_notes_sripriya/blob/main/Phonepe.ipynb\" target=\"_parent\"><img src=\"https://colab.research.google.com/assets/colab-badge.svg\" alt=\"Open In Colab\"/></a>"
      ]
    },
    {
      "cell_type": "code",
      "execution_count": 1,
      "metadata": {
        "id": "tBOYghZGrsGE",
        "colab": {
          "base_uri": "https://localhost:8080/"
        },
        "outputId": "82db42f8-708d-4681-89d6-c2bd5bc4b085"
      },
      "outputs": [
        {
          "output_type": "stream",
          "name": "stdout",
          "text": [
            "Cloning into 'pulse'...\n",
            "remote: Enumerating objects: 17904, done.\u001b[K\n",
            "remote: Counting objects: 100% (49/49), done.\u001b[K\n",
            "remote: Compressing objects: 100% (32/32), done.\u001b[K\n",
            "remote: Total 17904 (delta 19), reused 17 (delta 17), pack-reused 17855 (from 2)\u001b[K\n",
            "Receiving objects: 100% (17904/17904), 26.13 MiB | 17.83 MiB/s, done.\n",
            "Resolving deltas: 100% (8723/8723), done.\n",
            "Updating files: 100% (9029/9029), done.\n"
          ]
        }
      ],
      "source": [
        "!git clone https://github.com/PhonePe/pulse"
      ]
    },
    {
      "cell_type": "markdown",
      "source": [
        "#Aggregated"
      ],
      "metadata": {
        "id": "VkX2IDmkisHs"
      }
    },
    {
      "cell_type": "code",
      "source": [
        "import os\n",
        "agg_state_path=\"/content/pulse/data/aggregated/insurance/country/india/state\"\n",
        "agg_state_list=os.listdir(agg_state_path)\n",
        "agg_state_list"
      ],
      "metadata": {
        "id": "3yX9cUmGBuQc"
      },
      "execution_count": null,
      "outputs": []
    },
    {
      "cell_type": "code",
      "source": [
        "import pandas as pd\n",
        "import json\n",
        "import os"
      ],
      "metadata": {
        "id": "uBXla8yuCCN7"
      },
      "execution_count": null,
      "outputs": []
    },
    {
      "cell_type": "code",
      "source": [
        "for state in agg_state_list:\n",
        "    years=os.listdir(f\"{agg_state_path}/{state}\")\n",
        "    for year in years:\n",
        "        quarter=os.listdir(f\"{agg_state_path}/{state}/{year}\")\n",
        "        for qtr in quarter:\n",
        "           print(f\"{agg_state_path}/{state}/{year}/{qtr}\")"
      ],
      "metadata": {
        "id": "76b8FdhqCCLK"
      },
      "execution_count": null,
      "outputs": []
    },
    {
      "cell_type": "code",
      "source": [
        "path=\"/content/pulse/data/aggregated/insurance/country/india/state/andaman-&-nicobar-islands/2020/2.json\"\n",
        "\n",
        "with open(path,'r') as f:\n",
        "  data=json.load(f)\n",
        "data"
      ],
      "metadata": {
        "id": "KfX32Em7CCHs",
        "colab": {
          "base_uri": "https://localhost:8080/"
        },
        "outputId": "dcb04191-c630-4c83-ac62-1ad9c3724b03"
      },
      "execution_count": null,
      "outputs": [
        {
          "output_type": "execute_result",
          "data": {
            "text/plain": [
              "{'success': True,\n",
              " 'code': 'SUCCESS',\n",
              " 'data': {'from': 1585679400000,\n",
              "  'to': 1593282600000,\n",
              "  'transactionData': [{'name': 'Insurance',\n",
              "    'paymentInstruments': [{'type': 'TOTAL', 'count': 6, 'amount': 1360.0}]}]},\n",
              " 'responseTimestamp': 1692610808643}"
            ]
          },
          "metadata": {},
          "execution_count": 71
        }
      ]
    },
    {
      "cell_type": "code",
      "source": [
        "data.keys()"
      ],
      "metadata": {
        "id": "bDz38HS4CCBj",
        "colab": {
          "base_uri": "https://localhost:8080/"
        },
        "outputId": "b9b1eb9f-8a1b-4d35-8d15-8e25240ebbab"
      },
      "execution_count": null,
      "outputs": [
        {
          "output_type": "execute_result",
          "data": {
            "text/plain": [
              "dict_keys(['success', 'code', 'data', 'responseTimestamp'])"
            ]
          },
          "metadata": {},
          "execution_count": 72
        }
      ]
    },
    {
      "cell_type": "code",
      "source": [
        "data['data']"
      ],
      "metadata": {
        "colab": {
          "base_uri": "https://localhost:8080/"
        },
        "id": "oYqH9sCDgwqm",
        "outputId": "9b3132e3-62fa-4bbd-a80b-6e63d433146f"
      },
      "execution_count": null,
      "outputs": [
        {
          "output_type": "execute_result",
          "data": {
            "text/plain": [
              "{'from': 1585679400000,\n",
              " 'to': 1593282600000,\n",
              " 'transactionData': [{'name': 'Insurance',\n",
              "   'paymentInstruments': [{'type': 'TOTAL', 'count': 6, 'amount': 1360.0}]}]}"
            ]
          },
          "metadata": {},
          "execution_count": 73
        }
      ]
    },
    {
      "cell_type": "code",
      "source": [
        "data['data']['transactionData'][0]['paymentInstruments']"
      ],
      "metadata": {
        "colab": {
          "base_uri": "https://localhost:8080/"
        },
        "id": "Gi0t8dlvg37m",
        "outputId": "7ad964d1-7014-4b12-96c1-ca4d19108e7e"
      },
      "execution_count": null,
      "outputs": [
        {
          "output_type": "execute_result",
          "data": {
            "text/plain": [
              "[{'type': 'TOTAL', 'count': 6, 'amount': 1360.0}]"
            ]
          },
          "metadata": {},
          "execution_count": 30
        }
      ]
    },
    {
      "cell_type": "code",
      "source": [
        "for i in data['data']['transactionData']:\n",
        "  name=i['name']\n",
        "  count=i['paymentInstruments'][0]['count']\n",
        "  amount=i['paymentInstruments'][0]['amount']\n",
        "  print(name,count,amount)\n"
      ],
      "metadata": {
        "colab": {
          "base_uri": "https://localhost:8080/"
        },
        "id": "hPxavYX3jlh-",
        "outputId": "2f18413b-efa5-416d-ae72-aa2aaadec87e"
      },
      "execution_count": null,
      "outputs": [
        {
          "output_type": "stream",
          "name": "stdout",
          "text": [
            "Insurance 6 1360.0\n"
          ]
        }
      ]
    },
    {
      "cell_type": "code",
      "source": [
        "for i in data['data']['transactionData']:\n",
        "  print(i['paymentInstruments'])"
      ],
      "metadata": {
        "colab": {
          "base_uri": "https://localhost:8080/"
        },
        "id": "5AdMp4nakA2n",
        "outputId": "f0553572-3645-47b7-ca5b-d6b2efd04406"
      },
      "execution_count": null,
      "outputs": [
        {
          "output_type": "stream",
          "name": "stdout",
          "text": [
            "[{'type': 'TOTAL', 'count': 6, 'amount': 1360.0}]\n"
          ]
        }
      ]
    },
    {
      "cell_type": "code",
      "source": [
        "agg_trans_data={'States':[], 'Years':[], 'Quarter':[], 'transaction_type':[], 'transaction_count':[], 'transaction_amount':[]}\n",
        "\n",
        "\n",
        "for state in agg_state_list:\n",
        "    years=os.listdir(f\"{agg_state_path}/{state}\")\n",
        "    for year in years:\n",
        "        quarter=os.listdir(f\"{agg_state_path}/{state}/{year}\")\n",
        "        for qtr in quarter:\n",
        "           path=f\"{agg_state_path}/{state}/{year}/{qtr}\"\n",
        "           #print(path)\n",
        "\n",
        "           with open(path,'r') as f:\n",
        "             data=json.load(f)\n",
        "           #print(data)\n",
        "\n",
        "           for i in data['data']['transactionData']:\n",
        "             name=i['name']\n",
        "             count=i['paymentInstruments'][0]['count']\n",
        "             amount=i['paymentInstruments'][0]['amount']\n",
        "             agg_trans_data['transaction_type'].append(name)\n",
        "             agg_trans_data['transaction_count'].append(count)\n",
        "             agg_trans_data['transaction_amount'].append(amount)\n",
        "             agg_trans_data['States'].append(state)\n",
        "             agg_trans_data['Years'].append(year)\n",
        "             agg_trans_data['Quarter'].append(int(qtr.strip(\".json\")))\n",
        "agg_trans_data\n"
      ],
      "metadata": {
        "id": "TGMVOPABk41X"
      },
      "execution_count": null,
      "outputs": []
    },
    {
      "cell_type": "code",
      "source": [
        "agg_trans_df=pd.DataFrame(agg_trans_data)\n",
        "agg_trans_df"
      ],
      "metadata": {
        "colab": {
          "base_uri": "https://localhost:8080/",
          "height": 423
        },
        "id": "W7NDAQvmpT6X",
        "outputId": "43aac354-f059-4f96-ba45-3ae84c8451be"
      },
      "execution_count": null,
      "outputs": [
        {
          "output_type": "execute_result",
          "data": {
            "text/plain": [
              "                        States Years  Quarter transaction_type  \\\n",
              "0                  lakshadweep  2023        2        Insurance   \n",
              "1                  lakshadweep  2023        3        Insurance   \n",
              "2                  lakshadweep  2023        1        Insurance   \n",
              "3                  lakshadweep  2023        4        Insurance   \n",
              "4                  lakshadweep  2020        3        Insurance   \n",
              "..                         ...   ...      ...              ...   \n",
              "677  andaman-&-nicobar-islands  2024        4        Insurance   \n",
              "678  andaman-&-nicobar-islands  2021        2        Insurance   \n",
              "679  andaman-&-nicobar-islands  2021        3        Insurance   \n",
              "680  andaman-&-nicobar-islands  2021        1        Insurance   \n",
              "681  andaman-&-nicobar-islands  2021        4        Insurance   \n",
              "\n",
              "     transaction_count  transaction_amount  \n",
              "0                   15             38384.0  \n",
              "1                   12             12407.0  \n",
              "2                   26             30199.0  \n",
              "3                   53             78346.0  \n",
              "4                    4              1199.0  \n",
              "..                 ...                 ...  \n",
              "677               1293           2026380.0  \n",
              "678                137            181504.0  \n",
              "679                230            305235.0  \n",
              "680                225            244266.0  \n",
              "681                757           1056380.0  \n",
              "\n",
              "[682 rows x 6 columns]"
            ],
            "text/html": [
              "\n",
              "  <div id=\"df-bf936cc0-99a8-46af-8f9b-c0a6be36af67\" class=\"colab-df-container\">\n",
              "    <div>\n",
              "<style scoped>\n",
              "    .dataframe tbody tr th:only-of-type {\n",
              "        vertical-align: middle;\n",
              "    }\n",
              "\n",
              "    .dataframe tbody tr th {\n",
              "        vertical-align: top;\n",
              "    }\n",
              "\n",
              "    .dataframe thead th {\n",
              "        text-align: right;\n",
              "    }\n",
              "</style>\n",
              "<table border=\"1\" class=\"dataframe\">\n",
              "  <thead>\n",
              "    <tr style=\"text-align: right;\">\n",
              "      <th></th>\n",
              "      <th>States</th>\n",
              "      <th>Years</th>\n",
              "      <th>Quarter</th>\n",
              "      <th>transaction_type</th>\n",
              "      <th>transaction_count</th>\n",
              "      <th>transaction_amount</th>\n",
              "    </tr>\n",
              "  </thead>\n",
              "  <tbody>\n",
              "    <tr>\n",
              "      <th>0</th>\n",
              "      <td>lakshadweep</td>\n",
              "      <td>2023</td>\n",
              "      <td>2</td>\n",
              "      <td>Insurance</td>\n",
              "      <td>15</td>\n",
              "      <td>38384.0</td>\n",
              "    </tr>\n",
              "    <tr>\n",
              "      <th>1</th>\n",
              "      <td>lakshadweep</td>\n",
              "      <td>2023</td>\n",
              "      <td>3</td>\n",
              "      <td>Insurance</td>\n",
              "      <td>12</td>\n",
              "      <td>12407.0</td>\n",
              "    </tr>\n",
              "    <tr>\n",
              "      <th>2</th>\n",
              "      <td>lakshadweep</td>\n",
              "      <td>2023</td>\n",
              "      <td>1</td>\n",
              "      <td>Insurance</td>\n",
              "      <td>26</td>\n",
              "      <td>30199.0</td>\n",
              "    </tr>\n",
              "    <tr>\n",
              "      <th>3</th>\n",
              "      <td>lakshadweep</td>\n",
              "      <td>2023</td>\n",
              "      <td>4</td>\n",
              "      <td>Insurance</td>\n",
              "      <td>53</td>\n",
              "      <td>78346.0</td>\n",
              "    </tr>\n",
              "    <tr>\n",
              "      <th>4</th>\n",
              "      <td>lakshadweep</td>\n",
              "      <td>2020</td>\n",
              "      <td>3</td>\n",
              "      <td>Insurance</td>\n",
              "      <td>4</td>\n",
              "      <td>1199.0</td>\n",
              "    </tr>\n",
              "    <tr>\n",
              "      <th>...</th>\n",
              "      <td>...</td>\n",
              "      <td>...</td>\n",
              "      <td>...</td>\n",
              "      <td>...</td>\n",
              "      <td>...</td>\n",
              "      <td>...</td>\n",
              "    </tr>\n",
              "    <tr>\n",
              "      <th>677</th>\n",
              "      <td>andaman-&amp;-nicobar-islands</td>\n",
              "      <td>2024</td>\n",
              "      <td>4</td>\n",
              "      <td>Insurance</td>\n",
              "      <td>1293</td>\n",
              "      <td>2026380.0</td>\n",
              "    </tr>\n",
              "    <tr>\n",
              "      <th>678</th>\n",
              "      <td>andaman-&amp;-nicobar-islands</td>\n",
              "      <td>2021</td>\n",
              "      <td>2</td>\n",
              "      <td>Insurance</td>\n",
              "      <td>137</td>\n",
              "      <td>181504.0</td>\n",
              "    </tr>\n",
              "    <tr>\n",
              "      <th>679</th>\n",
              "      <td>andaman-&amp;-nicobar-islands</td>\n",
              "      <td>2021</td>\n",
              "      <td>3</td>\n",
              "      <td>Insurance</td>\n",
              "      <td>230</td>\n",
              "      <td>305235.0</td>\n",
              "    </tr>\n",
              "    <tr>\n",
              "      <th>680</th>\n",
              "      <td>andaman-&amp;-nicobar-islands</td>\n",
              "      <td>2021</td>\n",
              "      <td>1</td>\n",
              "      <td>Insurance</td>\n",
              "      <td>225</td>\n",
              "      <td>244266.0</td>\n",
              "    </tr>\n",
              "    <tr>\n",
              "      <th>681</th>\n",
              "      <td>andaman-&amp;-nicobar-islands</td>\n",
              "      <td>2021</td>\n",
              "      <td>4</td>\n",
              "      <td>Insurance</td>\n",
              "      <td>757</td>\n",
              "      <td>1056380.0</td>\n",
              "    </tr>\n",
              "  </tbody>\n",
              "</table>\n",
              "<p>682 rows × 6 columns</p>\n",
              "</div>\n",
              "    <div class=\"colab-df-buttons\">\n",
              "\n",
              "  <div class=\"colab-df-container\">\n",
              "    <button class=\"colab-df-convert\" onclick=\"convertToInteractive('df-bf936cc0-99a8-46af-8f9b-c0a6be36af67')\"\n",
              "            title=\"Convert this dataframe to an interactive table.\"\n",
              "            style=\"display:none;\">\n",
              "\n",
              "  <svg xmlns=\"http://www.w3.org/2000/svg\" height=\"24px\" viewBox=\"0 -960 960 960\">\n",
              "    <path d=\"M120-120v-720h720v720H120Zm60-500h600v-160H180v160Zm220 220h160v-160H400v160Zm0 220h160v-160H400v160ZM180-400h160v-160H180v160Zm440 0h160v-160H620v160ZM180-180h160v-160H180v160Zm440 0h160v-160H620v160Z\"/>\n",
              "  </svg>\n",
              "    </button>\n",
              "\n",
              "  <style>\n",
              "    .colab-df-container {\n",
              "      display:flex;\n",
              "      gap: 12px;\n",
              "    }\n",
              "\n",
              "    .colab-df-convert {\n",
              "      background-color: #E8F0FE;\n",
              "      border: none;\n",
              "      border-radius: 50%;\n",
              "      cursor: pointer;\n",
              "      display: none;\n",
              "      fill: #1967D2;\n",
              "      height: 32px;\n",
              "      padding: 0 0 0 0;\n",
              "      width: 32px;\n",
              "    }\n",
              "\n",
              "    .colab-df-convert:hover {\n",
              "      background-color: #E2EBFA;\n",
              "      box-shadow: 0px 1px 2px rgba(60, 64, 67, 0.3), 0px 1px 3px 1px rgba(60, 64, 67, 0.15);\n",
              "      fill: #174EA6;\n",
              "    }\n",
              "\n",
              "    .colab-df-buttons div {\n",
              "      margin-bottom: 4px;\n",
              "    }\n",
              "\n",
              "    [theme=dark] .colab-df-convert {\n",
              "      background-color: #3B4455;\n",
              "      fill: #D2E3FC;\n",
              "    }\n",
              "\n",
              "    [theme=dark] .colab-df-convert:hover {\n",
              "      background-color: #434B5C;\n",
              "      box-shadow: 0px 1px 3px 1px rgba(0, 0, 0, 0.15);\n",
              "      filter: drop-shadow(0px 1px 2px rgba(0, 0, 0, 0.3));\n",
              "      fill: #FFFFFF;\n",
              "    }\n",
              "  </style>\n",
              "\n",
              "    <script>\n",
              "      const buttonEl =\n",
              "        document.querySelector('#df-bf936cc0-99a8-46af-8f9b-c0a6be36af67 button.colab-df-convert');\n",
              "      buttonEl.style.display =\n",
              "        google.colab.kernel.accessAllowed ? 'block' : 'none';\n",
              "\n",
              "      async function convertToInteractive(key) {\n",
              "        const element = document.querySelector('#df-bf936cc0-99a8-46af-8f9b-c0a6be36af67');\n",
              "        const dataTable =\n",
              "          await google.colab.kernel.invokeFunction('convertToInteractive',\n",
              "                                                    [key], {});\n",
              "        if (!dataTable) return;\n",
              "\n",
              "        const docLinkHtml = 'Like what you see? Visit the ' +\n",
              "          '<a target=\"_blank\" href=https://colab.research.google.com/notebooks/data_table.ipynb>data table notebook</a>'\n",
              "          + ' to learn more about interactive tables.';\n",
              "        element.innerHTML = '';\n",
              "        dataTable['output_type'] = 'display_data';\n",
              "        await google.colab.output.renderOutput(dataTable, element);\n",
              "        const docLink = document.createElement('div');\n",
              "        docLink.innerHTML = docLinkHtml;\n",
              "        element.appendChild(docLink);\n",
              "      }\n",
              "    </script>\n",
              "  </div>\n",
              "\n",
              "\n",
              "    <div id=\"df-6380a682-8f40-406a-87f6-48ca5ec56f6e\">\n",
              "      <button class=\"colab-df-quickchart\" onclick=\"quickchart('df-6380a682-8f40-406a-87f6-48ca5ec56f6e')\"\n",
              "                title=\"Suggest charts\"\n",
              "                style=\"display:none;\">\n",
              "\n",
              "<svg xmlns=\"http://www.w3.org/2000/svg\" height=\"24px\"viewBox=\"0 0 24 24\"\n",
              "     width=\"24px\">\n",
              "    <g>\n",
              "        <path d=\"M19 3H5c-1.1 0-2 .9-2 2v14c0 1.1.9 2 2 2h14c1.1 0 2-.9 2-2V5c0-1.1-.9-2-2-2zM9 17H7v-7h2v7zm4 0h-2V7h2v10zm4 0h-2v-4h2v4z\"/>\n",
              "    </g>\n",
              "</svg>\n",
              "      </button>\n",
              "\n",
              "<style>\n",
              "  .colab-df-quickchart {\n",
              "      --bg-color: #E8F0FE;\n",
              "      --fill-color: #1967D2;\n",
              "      --hover-bg-color: #E2EBFA;\n",
              "      --hover-fill-color: #174EA6;\n",
              "      --disabled-fill-color: #AAA;\n",
              "      --disabled-bg-color: #DDD;\n",
              "  }\n",
              "\n",
              "  [theme=dark] .colab-df-quickchart {\n",
              "      --bg-color: #3B4455;\n",
              "      --fill-color: #D2E3FC;\n",
              "      --hover-bg-color: #434B5C;\n",
              "      --hover-fill-color: #FFFFFF;\n",
              "      --disabled-bg-color: #3B4455;\n",
              "      --disabled-fill-color: #666;\n",
              "  }\n",
              "\n",
              "  .colab-df-quickchart {\n",
              "    background-color: var(--bg-color);\n",
              "    border: none;\n",
              "    border-radius: 50%;\n",
              "    cursor: pointer;\n",
              "    display: none;\n",
              "    fill: var(--fill-color);\n",
              "    height: 32px;\n",
              "    padding: 0;\n",
              "    width: 32px;\n",
              "  }\n",
              "\n",
              "  .colab-df-quickchart:hover {\n",
              "    background-color: var(--hover-bg-color);\n",
              "    box-shadow: 0 1px 2px rgba(60, 64, 67, 0.3), 0 1px 3px 1px rgba(60, 64, 67, 0.15);\n",
              "    fill: var(--button-hover-fill-color);\n",
              "  }\n",
              "\n",
              "  .colab-df-quickchart-complete:disabled,\n",
              "  .colab-df-quickchart-complete:disabled:hover {\n",
              "    background-color: var(--disabled-bg-color);\n",
              "    fill: var(--disabled-fill-color);\n",
              "    box-shadow: none;\n",
              "  }\n",
              "\n",
              "  .colab-df-spinner {\n",
              "    border: 2px solid var(--fill-color);\n",
              "    border-color: transparent;\n",
              "    border-bottom-color: var(--fill-color);\n",
              "    animation:\n",
              "      spin 1s steps(1) infinite;\n",
              "  }\n",
              "\n",
              "  @keyframes spin {\n",
              "    0% {\n",
              "      border-color: transparent;\n",
              "      border-bottom-color: var(--fill-color);\n",
              "      border-left-color: var(--fill-color);\n",
              "    }\n",
              "    20% {\n",
              "      border-color: transparent;\n",
              "      border-left-color: var(--fill-color);\n",
              "      border-top-color: var(--fill-color);\n",
              "    }\n",
              "    30% {\n",
              "      border-color: transparent;\n",
              "      border-left-color: var(--fill-color);\n",
              "      border-top-color: var(--fill-color);\n",
              "      border-right-color: var(--fill-color);\n",
              "    }\n",
              "    40% {\n",
              "      border-color: transparent;\n",
              "      border-right-color: var(--fill-color);\n",
              "      border-top-color: var(--fill-color);\n",
              "    }\n",
              "    60% {\n",
              "      border-color: transparent;\n",
              "      border-right-color: var(--fill-color);\n",
              "    }\n",
              "    80% {\n",
              "      border-color: transparent;\n",
              "      border-right-color: var(--fill-color);\n",
              "      border-bottom-color: var(--fill-color);\n",
              "    }\n",
              "    90% {\n",
              "      border-color: transparent;\n",
              "      border-bottom-color: var(--fill-color);\n",
              "    }\n",
              "  }\n",
              "</style>\n",
              "\n",
              "      <script>\n",
              "        async function quickchart(key) {\n",
              "          const quickchartButtonEl =\n",
              "            document.querySelector('#' + key + ' button');\n",
              "          quickchartButtonEl.disabled = true;  // To prevent multiple clicks.\n",
              "          quickchartButtonEl.classList.add('colab-df-spinner');\n",
              "          try {\n",
              "            const charts = await google.colab.kernel.invokeFunction(\n",
              "                'suggestCharts', [key], {});\n",
              "          } catch (error) {\n",
              "            console.error('Error during call to suggestCharts:', error);\n",
              "          }\n",
              "          quickchartButtonEl.classList.remove('colab-df-spinner');\n",
              "          quickchartButtonEl.classList.add('colab-df-quickchart-complete');\n",
              "        }\n",
              "        (() => {\n",
              "          let quickchartButtonEl =\n",
              "            document.querySelector('#df-6380a682-8f40-406a-87f6-48ca5ec56f6e button');\n",
              "          quickchartButtonEl.style.display =\n",
              "            google.colab.kernel.accessAllowed ? 'block' : 'none';\n",
              "        })();\n",
              "      </script>\n",
              "    </div>\n",
              "\n",
              "  <div id=\"id_d253d5fe-ae1d-4d9d-b0e5-d10e947821ad\">\n",
              "    <style>\n",
              "      .colab-df-generate {\n",
              "        background-color: #E8F0FE;\n",
              "        border: none;\n",
              "        border-radius: 50%;\n",
              "        cursor: pointer;\n",
              "        display: none;\n",
              "        fill: #1967D2;\n",
              "        height: 32px;\n",
              "        padding: 0 0 0 0;\n",
              "        width: 32px;\n",
              "      }\n",
              "\n",
              "      .colab-df-generate:hover {\n",
              "        background-color: #E2EBFA;\n",
              "        box-shadow: 0px 1px 2px rgba(60, 64, 67, 0.3), 0px 1px 3px 1px rgba(60, 64, 67, 0.15);\n",
              "        fill: #174EA6;\n",
              "      }\n",
              "\n",
              "      [theme=dark] .colab-df-generate {\n",
              "        background-color: #3B4455;\n",
              "        fill: #D2E3FC;\n",
              "      }\n",
              "\n",
              "      [theme=dark] .colab-df-generate:hover {\n",
              "        background-color: #434B5C;\n",
              "        box-shadow: 0px 1px 3px 1px rgba(0, 0, 0, 0.15);\n",
              "        filter: drop-shadow(0px 1px 2px rgba(0, 0, 0, 0.3));\n",
              "        fill: #FFFFFF;\n",
              "      }\n",
              "    </style>\n",
              "    <button class=\"colab-df-generate\" onclick=\"generateWithVariable('agg_trans_df')\"\n",
              "            title=\"Generate code using this dataframe.\"\n",
              "            style=\"display:none;\">\n",
              "\n",
              "  <svg xmlns=\"http://www.w3.org/2000/svg\" height=\"24px\"viewBox=\"0 0 24 24\"\n",
              "       width=\"24px\">\n",
              "    <path d=\"M7,19H8.4L18.45,9,17,7.55,7,17.6ZM5,21V16.75L18.45,3.32a2,2,0,0,1,2.83,0l1.4,1.43a1.91,1.91,0,0,1,.58,1.4,1.91,1.91,0,0,1-.58,1.4L9.25,21ZM18.45,9,17,7.55Zm-12,3A5.31,5.31,0,0,0,4.9,8.1,5.31,5.31,0,0,0,1,6.5,5.31,5.31,0,0,0,4.9,4.9,5.31,5.31,0,0,0,6.5,1,5.31,5.31,0,0,0,8.1,4.9,5.31,5.31,0,0,0,12,6.5,5.46,5.46,0,0,0,6.5,12Z\"/>\n",
              "  </svg>\n",
              "    </button>\n",
              "    <script>\n",
              "      (() => {\n",
              "      const buttonEl =\n",
              "        document.querySelector('#id_d253d5fe-ae1d-4d9d-b0e5-d10e947821ad button.colab-df-generate');\n",
              "      buttonEl.style.display =\n",
              "        google.colab.kernel.accessAllowed ? 'block' : 'none';\n",
              "\n",
              "      buttonEl.onclick = () => {\n",
              "        google.colab.notebook.generateWithVariable('agg_trans_df');\n",
              "      }\n",
              "      })();\n",
              "    </script>\n",
              "  </div>\n",
              "\n",
              "    </div>\n",
              "  </div>\n"
            ],
            "application/vnd.google.colaboratory.intrinsic+json": {
              "type": "dataframe",
              "variable_name": "agg_trans_df",
              "summary": "{\n  \"name\": \"agg_trans_df\",\n  \"rows\": 682,\n  \"fields\": [\n    {\n      \"column\": \"States\",\n      \"properties\": {\n        \"dtype\": \"category\",\n        \"num_unique_values\": 36,\n        \"samples\": [\n          \"andaman-&-nicobar-islands\",\n          \"tamil-nadu\",\n          \"maharashtra\"\n        ],\n        \"semantic_type\": \"\",\n        \"description\": \"\"\n      }\n    },\n    {\n      \"column\": \"Years\",\n      \"properties\": {\n        \"dtype\": \"object\",\n        \"num_unique_values\": 5,\n        \"samples\": [\n          \"2020\",\n          \"2021\",\n          \"2022\"\n        ],\n        \"semantic_type\": \"\",\n        \"description\": \"\"\n      }\n    },\n    {\n      \"column\": \"Quarter\",\n      \"properties\": {\n        \"dtype\": \"number\",\n        \"std\": 1,\n        \"min\": 1,\n        \"max\": 4,\n        \"num_unique_values\": 4,\n        \"samples\": [\n          3,\n          4,\n          2\n        ],\n        \"semantic_type\": \"\",\n        \"description\": \"\"\n      }\n    },\n    {\n      \"column\": \"transaction_type\",\n      \"properties\": {\n        \"dtype\": \"category\",\n        \"num_unique_values\": 1,\n        \"samples\": [\n          \"Insurance\"\n        ],\n        \"semantic_type\": \"\",\n        \"description\": \"\"\n      }\n    },\n    {\n      \"column\": \"transaction_count\",\n      \"properties\": {\n        \"dtype\": \"number\",\n        \"std\": 31503,\n        \"min\": 4,\n        \"max\": 183532,\n        \"num_unique_values\": 654,\n        \"samples\": [\n          72712\n        ],\n        \"semantic_type\": \"\",\n        \"description\": \"\"\n      }\n    },\n    {\n      \"column\": \"transaction_amount\",\n      \"properties\": {\n        \"dtype\": \"number\",\n        \"std\": 47630854.450354315,\n        \"min\": 1199.0,\n        \"max\": 305861806.0,\n        \"num_unique_values\": 682,\n        \"samples\": [\n          720741.0\n        ],\n        \"semantic_type\": \"\",\n        \"description\": \"\"\n      }\n    }\n  ]\n}"
            }
          },
          "metadata": {},
          "execution_count": 75
        }
      ]
    },
    {
      "cell_type": "code",
      "source": [
        "agg_state_path1=\"/content/pulse/data/aggregated/transaction/country/india/state\"\n",
        "agg_state_list=os.listdir(agg_state_path)\n",
        "agg_state_list"
      ],
      "metadata": {
        "id": "Obcem8HVvjxZ"
      },
      "execution_count": null,
      "outputs": []
    },
    {
      "cell_type": "code",
      "source": [
        "for state in agg_state_list:\n",
        "    years=os.listdir(f\"{agg_state_path1}/{state}\")\n",
        "    for year in years:\n",
        "        quarter=os.listdir(f\"{agg_state_path1}/{state}/{year}\")\n",
        "        for qtr in quarter:\n",
        "           path=f\"{agg_state_path1}/{state}/{year}/{qtr}\"\n",
        "           print(path)"
      ],
      "metadata": {
        "id": "BIqzM30Kx_6a"
      },
      "execution_count": null,
      "outputs": []
    },
    {
      "cell_type": "code",
      "source": [
        "path1=\"/content/pulse/data/aggregated/transaction/country/india/state/andaman-&-nicobar-islands/2018/1.json\"\n",
        "\n",
        "with open(path1,'r') as f:\n",
        "  data=json.load(f)\n",
        "data"
      ],
      "metadata": {
        "id": "LbOawIP2x-b5"
      },
      "execution_count": null,
      "outputs": []
    },
    {
      "cell_type": "code",
      "source": [
        "data.keys()"
      ],
      "metadata": {
        "colab": {
          "base_uri": "https://localhost:8080/"
        },
        "id": "4K2LaRL5ypSJ",
        "outputId": "25bd4cc0-cb0b-42d2-de6d-fc97002f4107"
      },
      "execution_count": null,
      "outputs": [
        {
          "output_type": "execute_result",
          "data": {
            "text/plain": [
              "dict_keys(['success', 'code', 'data', 'responseTimestamp'])"
            ]
          },
          "metadata": {},
          "execution_count": 53
        }
      ]
    },
    {
      "cell_type": "code",
      "source": [
        "data['data']"
      ],
      "metadata": {
        "colab": {
          "base_uri": "https://localhost:8080/"
        },
        "id": "moZ9UMjmzwOq",
        "outputId": "5f626ecb-9f86-41dd-c692-474bf22c0302"
      },
      "execution_count": null,
      "outputs": [
        {
          "output_type": "execute_result",
          "data": {
            "text/plain": [
              "{'from': 1633026600000,\n",
              " 'to': 1640629800000,\n",
              " 'transactionData': [{'name': 'Insurance',\n",
              "   'paymentInstruments': [{'type': 'TOTAL',\n",
              "     'count': 757,\n",
              "     'amount': 1056380.0}]}]}"
            ]
          },
          "metadata": {},
          "execution_count": 77
        }
      ]
    },
    {
      "cell_type": "code",
      "source": [
        "data['data']['transactionData']"
      ],
      "metadata": {
        "colab": {
          "base_uri": "https://localhost:8080/"
        },
        "id": "aKa-l8hV0C96",
        "outputId": "00e0209f-7408-4ae7-af87-d10112621ba5"
      },
      "execution_count": null,
      "outputs": [
        {
          "output_type": "execute_result",
          "data": {
            "text/plain": [
              "[{'name': 'Insurance',\n",
              "  'paymentInstruments': [{'type': 'TOTAL',\n",
              "    'count': 757,\n",
              "    'amount': 1056380.0}]}]"
            ]
          },
          "metadata": {},
          "execution_count": 76
        }
      ]
    },
    {
      "cell_type": "code",
      "source": [
        "data['data']['transactionData'][0]['paymentInstruments']"
      ],
      "metadata": {
        "colab": {
          "base_uri": "https://localhost:8080/"
        },
        "id": "RDiajnOP1yd6",
        "outputId": "fc40e1e7-956e-43cd-b5d8-d45b31c7a773"
      },
      "execution_count": null,
      "outputs": [
        {
          "output_type": "execute_result",
          "data": {
            "text/plain": [
              "[{'type': 'TOTAL', 'count': 4200, 'amount': 1845307.4673655091}]"
            ]
          },
          "metadata": {},
          "execution_count": 58
        }
      ]
    },
    {
      "cell_type": "code",
      "source": [
        "agg_trans_data1={'States':[], 'Years':[], 'Quarter':[], 'transaction_type':[], 'transaction_count':[], 'transaction_amount':[]}\n",
        "\n",
        "\n",
        "for state in agg_state_list:\n",
        "    years=os.listdir(f\"{agg_state_path1}/{state}\")\n",
        "    for year in years:\n",
        "        quarter=os.listdir(f\"{agg_state_path1}/{state}/{year}\")\n",
        "        for qtr in quarter:\n",
        "           path=f\"{agg_state_path1}/{state}/{year}/{qtr}\"\n",
        "           #print(path)\n",
        "\n",
        "           with open(path1,'r') as f:\n",
        "              data=json.load(f)\n",
        "           #print(data)\n",
        "\n",
        "           for i in data['data']['transactionData']:\n",
        "             name=i['name']\n",
        "             count=i['paymentInstruments'][0]['count']\n",
        "             amount=i['paymentInstruments'][0]['amount']\n",
        "             agg_trans_data1['transaction_type'].append(name)\n",
        "             agg_trans_data1['transaction_count'].append(count)\n",
        "             agg_trans_data1['transaction_amount'].append(amount)\n",
        "             agg_trans_data1['States'].append(state)\n",
        "             agg_trans_data1['Years'].append(year)\n",
        "             agg_trans_data1['Quarter'].append(int(qtr.strip(\".json\")))\n",
        "agg_trans_data1"
      ],
      "metadata": {
        "id": "r_N5Gevap7KA"
      },
      "execution_count": null,
      "outputs": []
    },
    {
      "cell_type": "code",
      "source": [
        "agg_trans_df1=pd.DataFrame(agg_trans_data1)\n",
        "agg_trans_df1"
      ],
      "metadata": {
        "colab": {
          "base_uri": "https://localhost:8080/",
          "height": 423
        },
        "id": "j0Zb1hdQ4V8a",
        "outputId": "162a343b-a2ff-4fd6-9686-749e4acab45e"
      },
      "execution_count": null,
      "outputs": [
        {
          "output_type": "execute_result",
          "data": {
            "text/plain": [
              "           States Years  Quarter          transaction_type  transaction_count  \\\n",
              "0     west-bengal  2022        1  Recharge & bill payments               4200   \n",
              "1     west-bengal  2022        1     Peer-to-peer payments               1871   \n",
              "2     west-bengal  2022        1         Merchant payments                298   \n",
              "3     west-bengal  2022        1        Financial Services                 33   \n",
              "4     west-bengal  2022        1                    Others                256   \n",
              "...           ...   ...      ...                       ...                ...   \n",
              "5035        assam  2020        3  Recharge & bill payments               4200   \n",
              "5036        assam  2020        3     Peer-to-peer payments               1871   \n",
              "5037        assam  2020        3         Merchant payments                298   \n",
              "5038        assam  2020        3        Financial Services                 33   \n",
              "5039        assam  2020        3                    Others                256   \n",
              "\n",
              "      transaction_amount  \n",
              "0           1.845307e+06  \n",
              "1           1.213866e+07  \n",
              "2           4.525072e+05  \n",
              "3           1.060142e+04  \n",
              "4           1.846899e+05  \n",
              "...                  ...  \n",
              "5035        1.845307e+06  \n",
              "5036        1.213866e+07  \n",
              "5037        4.525072e+05  \n",
              "5038        1.060142e+04  \n",
              "5039        1.846899e+05  \n",
              "\n",
              "[5040 rows x 6 columns]"
            ],
            "text/html": [
              "\n",
              "  <div id=\"df-94c7ed34-465e-4013-a9ba-31212d45fb8a\" class=\"colab-df-container\">\n",
              "    <div>\n",
              "<style scoped>\n",
              "    .dataframe tbody tr th:only-of-type {\n",
              "        vertical-align: middle;\n",
              "    }\n",
              "\n",
              "    .dataframe tbody tr th {\n",
              "        vertical-align: top;\n",
              "    }\n",
              "\n",
              "    .dataframe thead th {\n",
              "        text-align: right;\n",
              "    }\n",
              "</style>\n",
              "<table border=\"1\" class=\"dataframe\">\n",
              "  <thead>\n",
              "    <tr style=\"text-align: right;\">\n",
              "      <th></th>\n",
              "      <th>States</th>\n",
              "      <th>Years</th>\n",
              "      <th>Quarter</th>\n",
              "      <th>transaction_type</th>\n",
              "      <th>transaction_count</th>\n",
              "      <th>transaction_amount</th>\n",
              "    </tr>\n",
              "  </thead>\n",
              "  <tbody>\n",
              "    <tr>\n",
              "      <th>0</th>\n",
              "      <td>west-bengal</td>\n",
              "      <td>2022</td>\n",
              "      <td>1</td>\n",
              "      <td>Recharge &amp; bill payments</td>\n",
              "      <td>4200</td>\n",
              "      <td>1.845307e+06</td>\n",
              "    </tr>\n",
              "    <tr>\n",
              "      <th>1</th>\n",
              "      <td>west-bengal</td>\n",
              "      <td>2022</td>\n",
              "      <td>1</td>\n",
              "      <td>Peer-to-peer payments</td>\n",
              "      <td>1871</td>\n",
              "      <td>1.213866e+07</td>\n",
              "    </tr>\n",
              "    <tr>\n",
              "      <th>2</th>\n",
              "      <td>west-bengal</td>\n",
              "      <td>2022</td>\n",
              "      <td>1</td>\n",
              "      <td>Merchant payments</td>\n",
              "      <td>298</td>\n",
              "      <td>4.525072e+05</td>\n",
              "    </tr>\n",
              "    <tr>\n",
              "      <th>3</th>\n",
              "      <td>west-bengal</td>\n",
              "      <td>2022</td>\n",
              "      <td>1</td>\n",
              "      <td>Financial Services</td>\n",
              "      <td>33</td>\n",
              "      <td>1.060142e+04</td>\n",
              "    </tr>\n",
              "    <tr>\n",
              "      <th>4</th>\n",
              "      <td>west-bengal</td>\n",
              "      <td>2022</td>\n",
              "      <td>1</td>\n",
              "      <td>Others</td>\n",
              "      <td>256</td>\n",
              "      <td>1.846899e+05</td>\n",
              "    </tr>\n",
              "    <tr>\n",
              "      <th>...</th>\n",
              "      <td>...</td>\n",
              "      <td>...</td>\n",
              "      <td>...</td>\n",
              "      <td>...</td>\n",
              "      <td>...</td>\n",
              "      <td>...</td>\n",
              "    </tr>\n",
              "    <tr>\n",
              "      <th>5035</th>\n",
              "      <td>assam</td>\n",
              "      <td>2020</td>\n",
              "      <td>3</td>\n",
              "      <td>Recharge &amp; bill payments</td>\n",
              "      <td>4200</td>\n",
              "      <td>1.845307e+06</td>\n",
              "    </tr>\n",
              "    <tr>\n",
              "      <th>5036</th>\n",
              "      <td>assam</td>\n",
              "      <td>2020</td>\n",
              "      <td>3</td>\n",
              "      <td>Peer-to-peer payments</td>\n",
              "      <td>1871</td>\n",
              "      <td>1.213866e+07</td>\n",
              "    </tr>\n",
              "    <tr>\n",
              "      <th>5037</th>\n",
              "      <td>assam</td>\n",
              "      <td>2020</td>\n",
              "      <td>3</td>\n",
              "      <td>Merchant payments</td>\n",
              "      <td>298</td>\n",
              "      <td>4.525072e+05</td>\n",
              "    </tr>\n",
              "    <tr>\n",
              "      <th>5038</th>\n",
              "      <td>assam</td>\n",
              "      <td>2020</td>\n",
              "      <td>3</td>\n",
              "      <td>Financial Services</td>\n",
              "      <td>33</td>\n",
              "      <td>1.060142e+04</td>\n",
              "    </tr>\n",
              "    <tr>\n",
              "      <th>5039</th>\n",
              "      <td>assam</td>\n",
              "      <td>2020</td>\n",
              "      <td>3</td>\n",
              "      <td>Others</td>\n",
              "      <td>256</td>\n",
              "      <td>1.846899e+05</td>\n",
              "    </tr>\n",
              "  </tbody>\n",
              "</table>\n",
              "<p>5040 rows × 6 columns</p>\n",
              "</div>\n",
              "    <div class=\"colab-df-buttons\">\n",
              "\n",
              "  <div class=\"colab-df-container\">\n",
              "    <button class=\"colab-df-convert\" onclick=\"convertToInteractive('df-94c7ed34-465e-4013-a9ba-31212d45fb8a')\"\n",
              "            title=\"Convert this dataframe to an interactive table.\"\n",
              "            style=\"display:none;\">\n",
              "\n",
              "  <svg xmlns=\"http://www.w3.org/2000/svg\" height=\"24px\" viewBox=\"0 -960 960 960\">\n",
              "    <path d=\"M120-120v-720h720v720H120Zm60-500h600v-160H180v160Zm220 220h160v-160H400v160Zm0 220h160v-160H400v160ZM180-400h160v-160H180v160Zm440 0h160v-160H620v160ZM180-180h160v-160H180v160Zm440 0h160v-160H620v160Z\"/>\n",
              "  </svg>\n",
              "    </button>\n",
              "\n",
              "  <style>\n",
              "    .colab-df-container {\n",
              "      display:flex;\n",
              "      gap: 12px;\n",
              "    }\n",
              "\n",
              "    .colab-df-convert {\n",
              "      background-color: #E8F0FE;\n",
              "      border: none;\n",
              "      border-radius: 50%;\n",
              "      cursor: pointer;\n",
              "      display: none;\n",
              "      fill: #1967D2;\n",
              "      height: 32px;\n",
              "      padding: 0 0 0 0;\n",
              "      width: 32px;\n",
              "    }\n",
              "\n",
              "    .colab-df-convert:hover {\n",
              "      background-color: #E2EBFA;\n",
              "      box-shadow: 0px 1px 2px rgba(60, 64, 67, 0.3), 0px 1px 3px 1px rgba(60, 64, 67, 0.15);\n",
              "      fill: #174EA6;\n",
              "    }\n",
              "\n",
              "    .colab-df-buttons div {\n",
              "      margin-bottom: 4px;\n",
              "    }\n",
              "\n",
              "    [theme=dark] .colab-df-convert {\n",
              "      background-color: #3B4455;\n",
              "      fill: #D2E3FC;\n",
              "    }\n",
              "\n",
              "    [theme=dark] .colab-df-convert:hover {\n",
              "      background-color: #434B5C;\n",
              "      box-shadow: 0px 1px 3px 1px rgba(0, 0, 0, 0.15);\n",
              "      filter: drop-shadow(0px 1px 2px rgba(0, 0, 0, 0.3));\n",
              "      fill: #FFFFFF;\n",
              "    }\n",
              "  </style>\n",
              "\n",
              "    <script>\n",
              "      const buttonEl =\n",
              "        document.querySelector('#df-94c7ed34-465e-4013-a9ba-31212d45fb8a button.colab-df-convert');\n",
              "      buttonEl.style.display =\n",
              "        google.colab.kernel.accessAllowed ? 'block' : 'none';\n",
              "\n",
              "      async function convertToInteractive(key) {\n",
              "        const element = document.querySelector('#df-94c7ed34-465e-4013-a9ba-31212d45fb8a');\n",
              "        const dataTable =\n",
              "          await google.colab.kernel.invokeFunction('convertToInteractive',\n",
              "                                                    [key], {});\n",
              "        if (!dataTable) return;\n",
              "\n",
              "        const docLinkHtml = 'Like what you see? Visit the ' +\n",
              "          '<a target=\"_blank\" href=https://colab.research.google.com/notebooks/data_table.ipynb>data table notebook</a>'\n",
              "          + ' to learn more about interactive tables.';\n",
              "        element.innerHTML = '';\n",
              "        dataTable['output_type'] = 'display_data';\n",
              "        await google.colab.output.renderOutput(dataTable, element);\n",
              "        const docLink = document.createElement('div');\n",
              "        docLink.innerHTML = docLinkHtml;\n",
              "        element.appendChild(docLink);\n",
              "      }\n",
              "    </script>\n",
              "  </div>\n",
              "\n",
              "\n",
              "    <div id=\"df-b80320e6-bce9-46eb-85b1-cb6d6bfa688c\">\n",
              "      <button class=\"colab-df-quickchart\" onclick=\"quickchart('df-b80320e6-bce9-46eb-85b1-cb6d6bfa688c')\"\n",
              "                title=\"Suggest charts\"\n",
              "                style=\"display:none;\">\n",
              "\n",
              "<svg xmlns=\"http://www.w3.org/2000/svg\" height=\"24px\"viewBox=\"0 0 24 24\"\n",
              "     width=\"24px\">\n",
              "    <g>\n",
              "        <path d=\"M19 3H5c-1.1 0-2 .9-2 2v14c0 1.1.9 2 2 2h14c1.1 0 2-.9 2-2V5c0-1.1-.9-2-2-2zM9 17H7v-7h2v7zm4 0h-2V7h2v10zm4 0h-2v-4h2v4z\"/>\n",
              "    </g>\n",
              "</svg>\n",
              "      </button>\n",
              "\n",
              "<style>\n",
              "  .colab-df-quickchart {\n",
              "      --bg-color: #E8F0FE;\n",
              "      --fill-color: #1967D2;\n",
              "      --hover-bg-color: #E2EBFA;\n",
              "      --hover-fill-color: #174EA6;\n",
              "      --disabled-fill-color: #AAA;\n",
              "      --disabled-bg-color: #DDD;\n",
              "  }\n",
              "\n",
              "  [theme=dark] .colab-df-quickchart {\n",
              "      --bg-color: #3B4455;\n",
              "      --fill-color: #D2E3FC;\n",
              "      --hover-bg-color: #434B5C;\n",
              "      --hover-fill-color: #FFFFFF;\n",
              "      --disabled-bg-color: #3B4455;\n",
              "      --disabled-fill-color: #666;\n",
              "  }\n",
              "\n",
              "  .colab-df-quickchart {\n",
              "    background-color: var(--bg-color);\n",
              "    border: none;\n",
              "    border-radius: 50%;\n",
              "    cursor: pointer;\n",
              "    display: none;\n",
              "    fill: var(--fill-color);\n",
              "    height: 32px;\n",
              "    padding: 0;\n",
              "    width: 32px;\n",
              "  }\n",
              "\n",
              "  .colab-df-quickchart:hover {\n",
              "    background-color: var(--hover-bg-color);\n",
              "    box-shadow: 0 1px 2px rgba(60, 64, 67, 0.3), 0 1px 3px 1px rgba(60, 64, 67, 0.15);\n",
              "    fill: var(--button-hover-fill-color);\n",
              "  }\n",
              "\n",
              "  .colab-df-quickchart-complete:disabled,\n",
              "  .colab-df-quickchart-complete:disabled:hover {\n",
              "    background-color: var(--disabled-bg-color);\n",
              "    fill: var(--disabled-fill-color);\n",
              "    box-shadow: none;\n",
              "  }\n",
              "\n",
              "  .colab-df-spinner {\n",
              "    border: 2px solid var(--fill-color);\n",
              "    border-color: transparent;\n",
              "    border-bottom-color: var(--fill-color);\n",
              "    animation:\n",
              "      spin 1s steps(1) infinite;\n",
              "  }\n",
              "\n",
              "  @keyframes spin {\n",
              "    0% {\n",
              "      border-color: transparent;\n",
              "      border-bottom-color: var(--fill-color);\n",
              "      border-left-color: var(--fill-color);\n",
              "    }\n",
              "    20% {\n",
              "      border-color: transparent;\n",
              "      border-left-color: var(--fill-color);\n",
              "      border-top-color: var(--fill-color);\n",
              "    }\n",
              "    30% {\n",
              "      border-color: transparent;\n",
              "      border-left-color: var(--fill-color);\n",
              "      border-top-color: var(--fill-color);\n",
              "      border-right-color: var(--fill-color);\n",
              "    }\n",
              "    40% {\n",
              "      border-color: transparent;\n",
              "      border-right-color: var(--fill-color);\n",
              "      border-top-color: var(--fill-color);\n",
              "    }\n",
              "    60% {\n",
              "      border-color: transparent;\n",
              "      border-right-color: var(--fill-color);\n",
              "    }\n",
              "    80% {\n",
              "      border-color: transparent;\n",
              "      border-right-color: var(--fill-color);\n",
              "      border-bottom-color: var(--fill-color);\n",
              "    }\n",
              "    90% {\n",
              "      border-color: transparent;\n",
              "      border-bottom-color: var(--fill-color);\n",
              "    }\n",
              "  }\n",
              "</style>\n",
              "\n",
              "      <script>\n",
              "        async function quickchart(key) {\n",
              "          const quickchartButtonEl =\n",
              "            document.querySelector('#' + key + ' button');\n",
              "          quickchartButtonEl.disabled = true;  // To prevent multiple clicks.\n",
              "          quickchartButtonEl.classList.add('colab-df-spinner');\n",
              "          try {\n",
              "            const charts = await google.colab.kernel.invokeFunction(\n",
              "                'suggestCharts', [key], {});\n",
              "          } catch (error) {\n",
              "            console.error('Error during call to suggestCharts:', error);\n",
              "          }\n",
              "          quickchartButtonEl.classList.remove('colab-df-spinner');\n",
              "          quickchartButtonEl.classList.add('colab-df-quickchart-complete');\n",
              "        }\n",
              "        (() => {\n",
              "          let quickchartButtonEl =\n",
              "            document.querySelector('#df-b80320e6-bce9-46eb-85b1-cb6d6bfa688c button');\n",
              "          quickchartButtonEl.style.display =\n",
              "            google.colab.kernel.accessAllowed ? 'block' : 'none';\n",
              "        })();\n",
              "      </script>\n",
              "    </div>\n",
              "\n",
              "  <div id=\"id_8d229166-bc29-4407-9853-ca34425a48d4\">\n",
              "    <style>\n",
              "      .colab-df-generate {\n",
              "        background-color: #E8F0FE;\n",
              "        border: none;\n",
              "        border-radius: 50%;\n",
              "        cursor: pointer;\n",
              "        display: none;\n",
              "        fill: #1967D2;\n",
              "        height: 32px;\n",
              "        padding: 0 0 0 0;\n",
              "        width: 32px;\n",
              "      }\n",
              "\n",
              "      .colab-df-generate:hover {\n",
              "        background-color: #E2EBFA;\n",
              "        box-shadow: 0px 1px 2px rgba(60, 64, 67, 0.3), 0px 1px 3px 1px rgba(60, 64, 67, 0.15);\n",
              "        fill: #174EA6;\n",
              "      }\n",
              "\n",
              "      [theme=dark] .colab-df-generate {\n",
              "        background-color: #3B4455;\n",
              "        fill: #D2E3FC;\n",
              "      }\n",
              "\n",
              "      [theme=dark] .colab-df-generate:hover {\n",
              "        background-color: #434B5C;\n",
              "        box-shadow: 0px 1px 3px 1px rgba(0, 0, 0, 0.15);\n",
              "        filter: drop-shadow(0px 1px 2px rgba(0, 0, 0, 0.3));\n",
              "        fill: #FFFFFF;\n",
              "      }\n",
              "    </style>\n",
              "    <button class=\"colab-df-generate\" onclick=\"generateWithVariable('agg_trans_df1')\"\n",
              "            title=\"Generate code using this dataframe.\"\n",
              "            style=\"display:none;\">\n",
              "\n",
              "  <svg xmlns=\"http://www.w3.org/2000/svg\" height=\"24px\"viewBox=\"0 0 24 24\"\n",
              "       width=\"24px\">\n",
              "    <path d=\"M7,19H8.4L18.45,9,17,7.55,7,17.6ZM5,21V16.75L18.45,3.32a2,2,0,0,1,2.83,0l1.4,1.43a1.91,1.91,0,0,1,.58,1.4,1.91,1.91,0,0,1-.58,1.4L9.25,21ZM18.45,9,17,7.55Zm-12,3A5.31,5.31,0,0,0,4.9,8.1,5.31,5.31,0,0,0,1,6.5,5.31,5.31,0,0,0,4.9,4.9,5.31,5.31,0,0,0,6.5,1,5.31,5.31,0,0,0,8.1,4.9,5.31,5.31,0,0,0,12,6.5,5.46,5.46,0,0,0,6.5,12Z\"/>\n",
              "  </svg>\n",
              "    </button>\n",
              "    <script>\n",
              "      (() => {\n",
              "      const buttonEl =\n",
              "        document.querySelector('#id_8d229166-bc29-4407-9853-ca34425a48d4 button.colab-df-generate');\n",
              "      buttonEl.style.display =\n",
              "        google.colab.kernel.accessAllowed ? 'block' : 'none';\n",
              "\n",
              "      buttonEl.onclick = () => {\n",
              "        google.colab.notebook.generateWithVariable('agg_trans_df1');\n",
              "      }\n",
              "      })();\n",
              "    </script>\n",
              "  </div>\n",
              "\n",
              "    </div>\n",
              "  </div>\n"
            ],
            "application/vnd.google.colaboratory.intrinsic+json": {
              "type": "dataframe",
              "variable_name": "agg_trans_df1",
              "summary": "{\n  \"name\": \"agg_trans_df1\",\n  \"rows\": 5040,\n  \"fields\": [\n    {\n      \"column\": \"States\",\n      \"properties\": {\n        \"dtype\": \"category\",\n        \"num_unique_values\": 36,\n        \"samples\": [\n          \"assam\",\n          \"andhra-pradesh\",\n          \"himachal-pradesh\"\n        ],\n        \"semantic_type\": \"\",\n        \"description\": \"\"\n      }\n    },\n    {\n      \"column\": \"Years\",\n      \"properties\": {\n        \"dtype\": \"object\",\n        \"num_unique_values\": 7,\n        \"samples\": [\n          \"2022\",\n          \"2023\",\n          \"2021\"\n        ],\n        \"semantic_type\": \"\",\n        \"description\": \"\"\n      }\n    },\n    {\n      \"column\": \"Quarter\",\n      \"properties\": {\n        \"dtype\": \"number\",\n        \"std\": 1,\n        \"min\": 1,\n        \"max\": 4,\n        \"num_unique_values\": 4,\n        \"samples\": [\n          2,\n          3,\n          1\n        ],\n        \"semantic_type\": \"\",\n        \"description\": \"\"\n      }\n    },\n    {\n      \"column\": \"transaction_type\",\n      \"properties\": {\n        \"dtype\": \"category\",\n        \"num_unique_values\": 5,\n        \"samples\": [\n          \"Peer-to-peer payments\",\n          \"Others\",\n          \"Merchant payments\"\n        ],\n        \"semantic_type\": \"\",\n        \"description\": \"\"\n      }\n    },\n    {\n      \"column\": \"transaction_count\",\n      \"properties\": {\n        \"dtype\": \"number\",\n        \"std\": 1576,\n        \"min\": 33,\n        \"max\": 4200,\n        \"num_unique_values\": 5,\n        \"samples\": [\n          1871,\n          256,\n          298\n        ],\n        \"semantic_type\": \"\",\n        \"description\": \"\"\n      }\n    },\n    {\n      \"column\": \"transaction_amount\",\n      \"properties\": {\n        \"dtype\": \"number\",\n        \"std\": 4651771.22300583,\n        \"min\": 10601.419933464953,\n        \"max\": 12138655.299749982,\n        \"num_unique_values\": 5,\n        \"samples\": [\n          12138655.299749982,\n          184689.8662902223,\n          452507.168646613\n        ],\n        \"semantic_type\": \"\",\n        \"description\": \"\"\n      }\n    }\n  ]\n}"
            }
          },
          "metadata": {},
          "execution_count": 69
        }
      ]
    },
    {
      "cell_type": "code",
      "source": [
        "agg_state_path2=\"/content/pulse/data/aggregated/user/country/india/state\"\n",
        "agg_state_list=os.listdir(agg_state_path2)\n",
        "agg_state_list"
      ],
      "metadata": {
        "id": "IYysEFWi9RML"
      },
      "execution_count": null,
      "outputs": []
    },
    {
      "cell_type": "code",
      "source": [
        "for state in agg_state_list:\n",
        "    years=os.listdir(f\"{agg_state_path2}/{state}\")\n",
        "    for year in years:\n",
        "        quarter=os.listdir(f\"{agg_state_path2}/{state}/{year}\")\n",
        "        for qtr in quarter:\n",
        "           path=f\"{agg_state_path2}/{state}/{year}/{qtr}\"\n",
        "           print(path)"
      ],
      "metadata": {
        "id": "lunBqiHx94Tj"
      },
      "execution_count": null,
      "outputs": []
    },
    {
      "cell_type": "code",
      "source": [
        "path2=\"/content/pulse/data/aggregated/user/country/india/state/andaman-&-nicobar-islands/2018/1.json\"\n",
        "\n",
        "with open(path2,'r') as f:\n",
        "  data=json.load(f)\n",
        "data"
      ],
      "metadata": {
        "id": "WJllpa9e-R-z"
      },
      "execution_count": null,
      "outputs": []
    },
    {
      "cell_type": "code",
      "source": [
        "data.keys()"
      ],
      "metadata": {
        "colab": {
          "base_uri": "https://localhost:8080/"
        },
        "id": "kHFtBJJg-nk8",
        "outputId": "c4ca97b8-6f24-48d8-fa91-4ad51547a128"
      },
      "execution_count": null,
      "outputs": [
        {
          "output_type": "execute_result",
          "data": {
            "text/plain": [
              "dict_keys(['success', 'code', 'data', 'responseTimestamp'])"
            ]
          },
          "metadata": {},
          "execution_count": 65
        }
      ]
    },
    {
      "cell_type": "code",
      "source": [
        "data['data']"
      ],
      "metadata": {
        "colab": {
          "base_uri": "https://localhost:8080/"
        },
        "id": "_ZOhLwhU-qOS",
        "outputId": "5e9ccc6f-7429-4918-98c4-9f152eb06327"
      },
      "execution_count": null,
      "outputs": [
        {
          "output_type": "execute_result",
          "data": {
            "text/plain": [
              "{'aggregated': {'registeredUsers': 6740, 'appOpens': 0},\n",
              " 'usersByDevice': [{'brand': 'Xiaomi',\n",
              "   'count': 1665,\n",
              "   'percentage': 0.2470326409495549},\n",
              "  {'brand': 'Samsung', 'count': 1445, 'percentage': 0.21439169139465875},\n",
              "  {'brand': 'Vivo', 'count': 982, 'percentage': 0.1456973293768546},\n",
              "  {'brand': 'Oppo', 'count': 501, 'percentage': 0.07433234421364986},\n",
              "  {'brand': 'OnePlus', 'count': 332, 'percentage': 0.04925816023738872},\n",
              "  {'brand': 'Realme', 'count': 316, 'percentage': 0.04688427299703264},\n",
              "  {'brand': 'Apple', 'count': 229, 'percentage': 0.03397626112759644},\n",
              "  {'brand': 'Motorola', 'count': 226, 'percentage': 0.03353115727002967},\n",
              "  {'brand': 'Lenovo', 'count': 202, 'percentage': 0.02997032640949555},\n",
              "  {'brand': 'Huawei', 'count': 158, 'percentage': 0.02344213649851632},\n",
              "  {'brand': 'Others', 'count': 684, 'percentage': 0.10148367952522255}]}"
            ]
          },
          "metadata": {},
          "execution_count": 66
        }
      ]
    },
    {
      "cell_type": "code",
      "source": [
        "data['data']['usersByDevice']"
      ],
      "metadata": {
        "colab": {
          "base_uri": "https://localhost:8080/"
        },
        "id": "MQtIxjJV-whc",
        "outputId": "f752bf50-29dd-4d28-bbd1-fd4a36ff98fc"
      },
      "execution_count": null,
      "outputs": [
        {
          "output_type": "execute_result",
          "data": {
            "text/plain": [
              "[{'brand': 'Xiaomi', 'count': 1665, 'percentage': 0.2470326409495549},\n",
              " {'brand': 'Samsung', 'count': 1445, 'percentage': 0.21439169139465875},\n",
              " {'brand': 'Vivo', 'count': 982, 'percentage': 0.1456973293768546},\n",
              " {'brand': 'Oppo', 'count': 501, 'percentage': 0.07433234421364986},\n",
              " {'brand': 'OnePlus', 'count': 332, 'percentage': 0.04925816023738872},\n",
              " {'brand': 'Realme', 'count': 316, 'percentage': 0.04688427299703264},\n",
              " {'brand': 'Apple', 'count': 229, 'percentage': 0.03397626112759644},\n",
              " {'brand': 'Motorola', 'count': 226, 'percentage': 0.03353115727002967},\n",
              " {'brand': 'Lenovo', 'count': 202, 'percentage': 0.02997032640949555},\n",
              " {'brand': 'Huawei', 'count': 158, 'percentage': 0.02344213649851632},\n",
              " {'brand': 'Others', 'count': 684, 'percentage': 0.10148367952522255}]"
            ]
          },
          "metadata": {},
          "execution_count": 67
        }
      ]
    },
    {
      "cell_type": "code",
      "source": [
        "agg_trans_data2={'States':[], 'Years':[], 'Quarter':[], 'brand':[], 'transaction_count':[], 'percentage':[]}\n",
        "\n",
        "\n",
        "for state in agg_state_list:\n",
        "    years=os.listdir(f\"{agg_state_path2}/{state}\")\n",
        "    for year in years:\n",
        "        quarter=os.listdir(f\"{agg_state_path2}/{state}/{year}\")\n",
        "        for qtr in quarter:\n",
        "           path=f\"{agg_state_path2}/{state}/{year}/{qtr}\"\n",
        "           #print(path)\n",
        "\n",
        "           with open(path2,'r') as f:\n",
        "              data=json.load(f)\n",
        "           #print(data)\n",
        "\n",
        "           for i in data['data']['usersByDevice']:\n",
        "             brand=i['brand']\n",
        "             count=i['count']\n",
        "             percentage=i['percentage']\n",
        "             agg_trans_data2['brand'].append(brand)\n",
        "             agg_trans_data2['transaction_count'].append(count)\n",
        "             agg_trans_data2['percentage'].append(percentage)\n",
        "             agg_trans_data2['States'].append(state)\n",
        "             agg_trans_data2['Years'].append(year)\n",
        "             agg_trans_data2['Quarter'].append(int(qtr.strip(\".json\")))\n",
        "agg_trans_data2"
      ],
      "metadata": {
        "id": "LLZtqimR_Lqb"
      },
      "execution_count": null,
      "outputs": []
    },
    {
      "cell_type": "code",
      "source": [
        "agg_trans_df2=pd.DataFrame(agg_trans_data2)\n",
        "agg_trans_df2"
      ],
      "metadata": {
        "colab": {
          "base_uri": "https://localhost:8080/",
          "height": 423
        },
        "id": "HhFRi0YTM0Ua",
        "outputId": "fe255258-7958-4dc8-dc12-a4b8cd251299"
      },
      "execution_count": null,
      "outputs": [
        {
          "output_type": "execute_result",
          "data": {
            "text/plain": [
              "                          States Years  Quarter     brand  transaction_count  \\\n",
              "0                    lakshadweep  2023        2    Xiaomi               1665   \n",
              "1                    lakshadweep  2023        2   Samsung               1445   \n",
              "2                    lakshadweep  2023        2      Vivo                982   \n",
              "3                    lakshadweep  2023        2      Oppo                501   \n",
              "4                    lakshadweep  2023        2   OnePlus                332   \n",
              "...                          ...   ...      ...       ...                ...   \n",
              "11083  andaman-&-nicobar-islands  2019        4     Apple                229   \n",
              "11084  andaman-&-nicobar-islands  2019        4  Motorola                226   \n",
              "11085  andaman-&-nicobar-islands  2019        4    Lenovo                202   \n",
              "11086  andaman-&-nicobar-islands  2019        4    Huawei                158   \n",
              "11087  andaman-&-nicobar-islands  2019        4    Others                684   \n",
              "\n",
              "       percentage  \n",
              "0        0.247033  \n",
              "1        0.214392  \n",
              "2        0.145697  \n",
              "3        0.074332  \n",
              "4        0.049258  \n",
              "...           ...  \n",
              "11083    0.033976  \n",
              "11084    0.033531  \n",
              "11085    0.029970  \n",
              "11086    0.023442  \n",
              "11087    0.101484  \n",
              "\n",
              "[11088 rows x 6 columns]"
            ],
            "text/html": [
              "\n",
              "  <div id=\"df-8ad0aa8d-7178-4d80-826e-5c93aa5a144a\" class=\"colab-df-container\">\n",
              "    <div>\n",
              "<style scoped>\n",
              "    .dataframe tbody tr th:only-of-type {\n",
              "        vertical-align: middle;\n",
              "    }\n",
              "\n",
              "    .dataframe tbody tr th {\n",
              "        vertical-align: top;\n",
              "    }\n",
              "\n",
              "    .dataframe thead th {\n",
              "        text-align: right;\n",
              "    }\n",
              "</style>\n",
              "<table border=\"1\" class=\"dataframe\">\n",
              "  <thead>\n",
              "    <tr style=\"text-align: right;\">\n",
              "      <th></th>\n",
              "      <th>States</th>\n",
              "      <th>Years</th>\n",
              "      <th>Quarter</th>\n",
              "      <th>brand</th>\n",
              "      <th>transaction_count</th>\n",
              "      <th>percentage</th>\n",
              "    </tr>\n",
              "  </thead>\n",
              "  <tbody>\n",
              "    <tr>\n",
              "      <th>0</th>\n",
              "      <td>lakshadweep</td>\n",
              "      <td>2023</td>\n",
              "      <td>2</td>\n",
              "      <td>Xiaomi</td>\n",
              "      <td>1665</td>\n",
              "      <td>0.247033</td>\n",
              "    </tr>\n",
              "    <tr>\n",
              "      <th>1</th>\n",
              "      <td>lakshadweep</td>\n",
              "      <td>2023</td>\n",
              "      <td>2</td>\n",
              "      <td>Samsung</td>\n",
              "      <td>1445</td>\n",
              "      <td>0.214392</td>\n",
              "    </tr>\n",
              "    <tr>\n",
              "      <th>2</th>\n",
              "      <td>lakshadweep</td>\n",
              "      <td>2023</td>\n",
              "      <td>2</td>\n",
              "      <td>Vivo</td>\n",
              "      <td>982</td>\n",
              "      <td>0.145697</td>\n",
              "    </tr>\n",
              "    <tr>\n",
              "      <th>3</th>\n",
              "      <td>lakshadweep</td>\n",
              "      <td>2023</td>\n",
              "      <td>2</td>\n",
              "      <td>Oppo</td>\n",
              "      <td>501</td>\n",
              "      <td>0.074332</td>\n",
              "    </tr>\n",
              "    <tr>\n",
              "      <th>4</th>\n",
              "      <td>lakshadweep</td>\n",
              "      <td>2023</td>\n",
              "      <td>2</td>\n",
              "      <td>OnePlus</td>\n",
              "      <td>332</td>\n",
              "      <td>0.049258</td>\n",
              "    </tr>\n",
              "    <tr>\n",
              "      <th>...</th>\n",
              "      <td>...</td>\n",
              "      <td>...</td>\n",
              "      <td>...</td>\n",
              "      <td>...</td>\n",
              "      <td>...</td>\n",
              "      <td>...</td>\n",
              "    </tr>\n",
              "    <tr>\n",
              "      <th>11083</th>\n",
              "      <td>andaman-&amp;-nicobar-islands</td>\n",
              "      <td>2019</td>\n",
              "      <td>4</td>\n",
              "      <td>Apple</td>\n",
              "      <td>229</td>\n",
              "      <td>0.033976</td>\n",
              "    </tr>\n",
              "    <tr>\n",
              "      <th>11084</th>\n",
              "      <td>andaman-&amp;-nicobar-islands</td>\n",
              "      <td>2019</td>\n",
              "      <td>4</td>\n",
              "      <td>Motorola</td>\n",
              "      <td>226</td>\n",
              "      <td>0.033531</td>\n",
              "    </tr>\n",
              "    <tr>\n",
              "      <th>11085</th>\n",
              "      <td>andaman-&amp;-nicobar-islands</td>\n",
              "      <td>2019</td>\n",
              "      <td>4</td>\n",
              "      <td>Lenovo</td>\n",
              "      <td>202</td>\n",
              "      <td>0.029970</td>\n",
              "    </tr>\n",
              "    <tr>\n",
              "      <th>11086</th>\n",
              "      <td>andaman-&amp;-nicobar-islands</td>\n",
              "      <td>2019</td>\n",
              "      <td>4</td>\n",
              "      <td>Huawei</td>\n",
              "      <td>158</td>\n",
              "      <td>0.023442</td>\n",
              "    </tr>\n",
              "    <tr>\n",
              "      <th>11087</th>\n",
              "      <td>andaman-&amp;-nicobar-islands</td>\n",
              "      <td>2019</td>\n",
              "      <td>4</td>\n",
              "      <td>Others</td>\n",
              "      <td>684</td>\n",
              "      <td>0.101484</td>\n",
              "    </tr>\n",
              "  </tbody>\n",
              "</table>\n",
              "<p>11088 rows × 6 columns</p>\n",
              "</div>\n",
              "    <div class=\"colab-df-buttons\">\n",
              "\n",
              "  <div class=\"colab-df-container\">\n",
              "    <button class=\"colab-df-convert\" onclick=\"convertToInteractive('df-8ad0aa8d-7178-4d80-826e-5c93aa5a144a')\"\n",
              "            title=\"Convert this dataframe to an interactive table.\"\n",
              "            style=\"display:none;\">\n",
              "\n",
              "  <svg xmlns=\"http://www.w3.org/2000/svg\" height=\"24px\" viewBox=\"0 -960 960 960\">\n",
              "    <path d=\"M120-120v-720h720v720H120Zm60-500h600v-160H180v160Zm220 220h160v-160H400v160Zm0 220h160v-160H400v160ZM180-400h160v-160H180v160Zm440 0h160v-160H620v160ZM180-180h160v-160H180v160Zm440 0h160v-160H620v160Z\"/>\n",
              "  </svg>\n",
              "    </button>\n",
              "\n",
              "  <style>\n",
              "    .colab-df-container {\n",
              "      display:flex;\n",
              "      gap: 12px;\n",
              "    }\n",
              "\n",
              "    .colab-df-convert {\n",
              "      background-color: #E8F0FE;\n",
              "      border: none;\n",
              "      border-radius: 50%;\n",
              "      cursor: pointer;\n",
              "      display: none;\n",
              "      fill: #1967D2;\n",
              "      height: 32px;\n",
              "      padding: 0 0 0 0;\n",
              "      width: 32px;\n",
              "    }\n",
              "\n",
              "    .colab-df-convert:hover {\n",
              "      background-color: #E2EBFA;\n",
              "      box-shadow: 0px 1px 2px rgba(60, 64, 67, 0.3), 0px 1px 3px 1px rgba(60, 64, 67, 0.15);\n",
              "      fill: #174EA6;\n",
              "    }\n",
              "\n",
              "    .colab-df-buttons div {\n",
              "      margin-bottom: 4px;\n",
              "    }\n",
              "\n",
              "    [theme=dark] .colab-df-convert {\n",
              "      background-color: #3B4455;\n",
              "      fill: #D2E3FC;\n",
              "    }\n",
              "\n",
              "    [theme=dark] .colab-df-convert:hover {\n",
              "      background-color: #434B5C;\n",
              "      box-shadow: 0px 1px 3px 1px rgba(0, 0, 0, 0.15);\n",
              "      filter: drop-shadow(0px 1px 2px rgba(0, 0, 0, 0.3));\n",
              "      fill: #FFFFFF;\n",
              "    }\n",
              "  </style>\n",
              "\n",
              "    <script>\n",
              "      const buttonEl =\n",
              "        document.querySelector('#df-8ad0aa8d-7178-4d80-826e-5c93aa5a144a button.colab-df-convert');\n",
              "      buttonEl.style.display =\n",
              "        google.colab.kernel.accessAllowed ? 'block' : 'none';\n",
              "\n",
              "      async function convertToInteractive(key) {\n",
              "        const element = document.querySelector('#df-8ad0aa8d-7178-4d80-826e-5c93aa5a144a');\n",
              "        const dataTable =\n",
              "          await google.colab.kernel.invokeFunction('convertToInteractive',\n",
              "                                                    [key], {});\n",
              "        if (!dataTable) return;\n",
              "\n",
              "        const docLinkHtml = 'Like what you see? Visit the ' +\n",
              "          '<a target=\"_blank\" href=https://colab.research.google.com/notebooks/data_table.ipynb>data table notebook</a>'\n",
              "          + ' to learn more about interactive tables.';\n",
              "        element.innerHTML = '';\n",
              "        dataTable['output_type'] = 'display_data';\n",
              "        await google.colab.output.renderOutput(dataTable, element);\n",
              "        const docLink = document.createElement('div');\n",
              "        docLink.innerHTML = docLinkHtml;\n",
              "        element.appendChild(docLink);\n",
              "      }\n",
              "    </script>\n",
              "  </div>\n",
              "\n",
              "\n",
              "    <div id=\"df-5a3fab32-a346-494b-bac5-d45595420f3e\">\n",
              "      <button class=\"colab-df-quickchart\" onclick=\"quickchart('df-5a3fab32-a346-494b-bac5-d45595420f3e')\"\n",
              "                title=\"Suggest charts\"\n",
              "                style=\"display:none;\">\n",
              "\n",
              "<svg xmlns=\"http://www.w3.org/2000/svg\" height=\"24px\"viewBox=\"0 0 24 24\"\n",
              "     width=\"24px\">\n",
              "    <g>\n",
              "        <path d=\"M19 3H5c-1.1 0-2 .9-2 2v14c0 1.1.9 2 2 2h14c1.1 0 2-.9 2-2V5c0-1.1-.9-2-2-2zM9 17H7v-7h2v7zm4 0h-2V7h2v10zm4 0h-2v-4h2v4z\"/>\n",
              "    </g>\n",
              "</svg>\n",
              "      </button>\n",
              "\n",
              "<style>\n",
              "  .colab-df-quickchart {\n",
              "      --bg-color: #E8F0FE;\n",
              "      --fill-color: #1967D2;\n",
              "      --hover-bg-color: #E2EBFA;\n",
              "      --hover-fill-color: #174EA6;\n",
              "      --disabled-fill-color: #AAA;\n",
              "      --disabled-bg-color: #DDD;\n",
              "  }\n",
              "\n",
              "  [theme=dark] .colab-df-quickchart {\n",
              "      --bg-color: #3B4455;\n",
              "      --fill-color: #D2E3FC;\n",
              "      --hover-bg-color: #434B5C;\n",
              "      --hover-fill-color: #FFFFFF;\n",
              "      --disabled-bg-color: #3B4455;\n",
              "      --disabled-fill-color: #666;\n",
              "  }\n",
              "\n",
              "  .colab-df-quickchart {\n",
              "    background-color: var(--bg-color);\n",
              "    border: none;\n",
              "    border-radius: 50%;\n",
              "    cursor: pointer;\n",
              "    display: none;\n",
              "    fill: var(--fill-color);\n",
              "    height: 32px;\n",
              "    padding: 0;\n",
              "    width: 32px;\n",
              "  }\n",
              "\n",
              "  .colab-df-quickchart:hover {\n",
              "    background-color: var(--hover-bg-color);\n",
              "    box-shadow: 0 1px 2px rgba(60, 64, 67, 0.3), 0 1px 3px 1px rgba(60, 64, 67, 0.15);\n",
              "    fill: var(--button-hover-fill-color);\n",
              "  }\n",
              "\n",
              "  .colab-df-quickchart-complete:disabled,\n",
              "  .colab-df-quickchart-complete:disabled:hover {\n",
              "    background-color: var(--disabled-bg-color);\n",
              "    fill: var(--disabled-fill-color);\n",
              "    box-shadow: none;\n",
              "  }\n",
              "\n",
              "  .colab-df-spinner {\n",
              "    border: 2px solid var(--fill-color);\n",
              "    border-color: transparent;\n",
              "    border-bottom-color: var(--fill-color);\n",
              "    animation:\n",
              "      spin 1s steps(1) infinite;\n",
              "  }\n",
              "\n",
              "  @keyframes spin {\n",
              "    0% {\n",
              "      border-color: transparent;\n",
              "      border-bottom-color: var(--fill-color);\n",
              "      border-left-color: var(--fill-color);\n",
              "    }\n",
              "    20% {\n",
              "      border-color: transparent;\n",
              "      border-left-color: var(--fill-color);\n",
              "      border-top-color: var(--fill-color);\n",
              "    }\n",
              "    30% {\n",
              "      border-color: transparent;\n",
              "      border-left-color: var(--fill-color);\n",
              "      border-top-color: var(--fill-color);\n",
              "      border-right-color: var(--fill-color);\n",
              "    }\n",
              "    40% {\n",
              "      border-color: transparent;\n",
              "      border-right-color: var(--fill-color);\n",
              "      border-top-color: var(--fill-color);\n",
              "    }\n",
              "    60% {\n",
              "      border-color: transparent;\n",
              "      border-right-color: var(--fill-color);\n",
              "    }\n",
              "    80% {\n",
              "      border-color: transparent;\n",
              "      border-right-color: var(--fill-color);\n",
              "      border-bottom-color: var(--fill-color);\n",
              "    }\n",
              "    90% {\n",
              "      border-color: transparent;\n",
              "      border-bottom-color: var(--fill-color);\n",
              "    }\n",
              "  }\n",
              "</style>\n",
              "\n",
              "      <script>\n",
              "        async function quickchart(key) {\n",
              "          const quickchartButtonEl =\n",
              "            document.querySelector('#' + key + ' button');\n",
              "          quickchartButtonEl.disabled = true;  // To prevent multiple clicks.\n",
              "          quickchartButtonEl.classList.add('colab-df-spinner');\n",
              "          try {\n",
              "            const charts = await google.colab.kernel.invokeFunction(\n",
              "                'suggestCharts', [key], {});\n",
              "          } catch (error) {\n",
              "            console.error('Error during call to suggestCharts:', error);\n",
              "          }\n",
              "          quickchartButtonEl.classList.remove('colab-df-spinner');\n",
              "          quickchartButtonEl.classList.add('colab-df-quickchart-complete');\n",
              "        }\n",
              "        (() => {\n",
              "          let quickchartButtonEl =\n",
              "            document.querySelector('#df-5a3fab32-a346-494b-bac5-d45595420f3e button');\n",
              "          quickchartButtonEl.style.display =\n",
              "            google.colab.kernel.accessAllowed ? 'block' : 'none';\n",
              "        })();\n",
              "      </script>\n",
              "    </div>\n",
              "\n",
              "  <div id=\"id_24a3371c-ed9b-404c-85c9-125ea7bff963\">\n",
              "    <style>\n",
              "      .colab-df-generate {\n",
              "        background-color: #E8F0FE;\n",
              "        border: none;\n",
              "        border-radius: 50%;\n",
              "        cursor: pointer;\n",
              "        display: none;\n",
              "        fill: #1967D2;\n",
              "        height: 32px;\n",
              "        padding: 0 0 0 0;\n",
              "        width: 32px;\n",
              "      }\n",
              "\n",
              "      .colab-df-generate:hover {\n",
              "        background-color: #E2EBFA;\n",
              "        box-shadow: 0px 1px 2px rgba(60, 64, 67, 0.3), 0px 1px 3px 1px rgba(60, 64, 67, 0.15);\n",
              "        fill: #174EA6;\n",
              "      }\n",
              "\n",
              "      [theme=dark] .colab-df-generate {\n",
              "        background-color: #3B4455;\n",
              "        fill: #D2E3FC;\n",
              "      }\n",
              "\n",
              "      [theme=dark] .colab-df-generate:hover {\n",
              "        background-color: #434B5C;\n",
              "        box-shadow: 0px 1px 3px 1px rgba(0, 0, 0, 0.15);\n",
              "        filter: drop-shadow(0px 1px 2px rgba(0, 0, 0, 0.3));\n",
              "        fill: #FFFFFF;\n",
              "      }\n",
              "    </style>\n",
              "    <button class=\"colab-df-generate\" onclick=\"generateWithVariable('agg_trans_df2')\"\n",
              "            title=\"Generate code using this dataframe.\"\n",
              "            style=\"display:none;\">\n",
              "\n",
              "  <svg xmlns=\"http://www.w3.org/2000/svg\" height=\"24px\"viewBox=\"0 0 24 24\"\n",
              "       width=\"24px\">\n",
              "    <path d=\"M7,19H8.4L18.45,9,17,7.55,7,17.6ZM5,21V16.75L18.45,3.32a2,2,0,0,1,2.83,0l1.4,1.43a1.91,1.91,0,0,1,.58,1.4,1.91,1.91,0,0,1-.58,1.4L9.25,21ZM18.45,9,17,7.55Zm-12,3A5.31,5.31,0,0,0,4.9,8.1,5.31,5.31,0,0,0,1,6.5,5.31,5.31,0,0,0,4.9,4.9,5.31,5.31,0,0,0,6.5,1,5.31,5.31,0,0,0,8.1,4.9,5.31,5.31,0,0,0,12,6.5,5.46,5.46,0,0,0,6.5,12Z\"/>\n",
              "  </svg>\n",
              "    </button>\n",
              "    <script>\n",
              "      (() => {\n",
              "      const buttonEl =\n",
              "        document.querySelector('#id_24a3371c-ed9b-404c-85c9-125ea7bff963 button.colab-df-generate');\n",
              "      buttonEl.style.display =\n",
              "        google.colab.kernel.accessAllowed ? 'block' : 'none';\n",
              "\n",
              "      buttonEl.onclick = () => {\n",
              "        google.colab.notebook.generateWithVariable('agg_trans_df2');\n",
              "      }\n",
              "      })();\n",
              "    </script>\n",
              "  </div>\n",
              "\n",
              "    </div>\n",
              "  </div>\n"
            ],
            "application/vnd.google.colaboratory.intrinsic+json": {
              "type": "dataframe",
              "variable_name": "agg_trans_df2",
              "summary": "{\n  \"name\": \"agg_trans_df2\",\n  \"rows\": 11088,\n  \"fields\": [\n    {\n      \"column\": \"States\",\n      \"properties\": {\n        \"dtype\": \"category\",\n        \"num_unique_values\": 36,\n        \"samples\": [\n          \"andaman-&-nicobar-islands\",\n          \"tamil-nadu\",\n          \"maharashtra\"\n        ],\n        \"semantic_type\": \"\",\n        \"description\": \"\"\n      }\n    },\n    {\n      \"column\": \"Years\",\n      \"properties\": {\n        \"dtype\": \"object\",\n        \"num_unique_values\": 7,\n        \"samples\": [\n          \"2023\",\n          \"2020\",\n          \"2018\"\n        ],\n        \"semantic_type\": \"\",\n        \"description\": \"\"\n      }\n    },\n    {\n      \"column\": \"Quarter\",\n      \"properties\": {\n        \"dtype\": \"number\",\n        \"std\": 1,\n        \"min\": 1,\n        \"max\": 4,\n        \"num_unique_values\": 4,\n        \"samples\": [\n          3,\n          4,\n          2\n        ],\n        \"semantic_type\": \"\",\n        \"description\": \"\"\n      }\n    },\n    {\n      \"column\": \"brand\",\n      \"properties\": {\n        \"dtype\": \"category\",\n        \"num_unique_values\": 11,\n        \"samples\": [\n          \"Realme\",\n          \"Xiaomi\",\n          \"Huawei\"\n        ],\n        \"semantic_type\": \"\",\n        \"description\": \"\"\n      }\n    },\n    {\n      \"column\": \"transaction_count\",\n      \"properties\": {\n        \"dtype\": \"number\",\n        \"std\": 503,\n        \"min\": 158,\n        \"max\": 1665,\n        \"num_unique_values\": 11,\n        \"samples\": [\n          316,\n          1665,\n          158\n        ],\n        \"semantic_type\": \"\",\n        \"description\": \"\"\n      }\n    },\n    {\n      \"column\": \"percentage\",\n      \"properties\": {\n        \"dtype\": \"number\",\n        \"std\": 0.07476527175192166,\n        \"min\": 0.02344213649851632,\n        \"max\": 0.2470326409495549,\n        \"num_unique_values\": 11,\n        \"samples\": [\n          0.04688427299703264,\n          0.2470326409495549,\n          0.02344213649851632\n        ],\n        \"semantic_type\": \"\",\n        \"description\": \"\"\n      }\n    }\n  ]\n}"
            }
          },
          "metadata": {},
          "execution_count": 9
        }
      ]
    },
    {
      "cell_type": "markdown",
      "source": [
        "#Map"
      ],
      "metadata": {
        "id": "4znRrUGji1OZ"
      }
    },
    {
      "cell_type": "markdown",
      "source": [
        "#Insurance_country"
      ],
      "metadata": {
        "id": "7PTiP_Uci_et"
      }
    },
    {
      "cell_type": "code",
      "source": [
        "map_state_path=\"/content/pulse/data/map/insurance/country/india/state\"\n",
        "map_state_list=os.listdir(map_state_path)\n",
        "map_state_list"
      ],
      "metadata": {
        "id": "bRXx27sZOAY7"
      },
      "execution_count": null,
      "outputs": []
    },
    {
      "cell_type": "code",
      "source": [
        "for state in map_state_list:\n",
        "    years=os.listdir(f\"{map_state_path}/{state}\")\n",
        "    for year in years:\n",
        "        quarter=os.listdir(f\"{map_state_path}/{state}/{year}\")\n",
        "        for qtr in quarter:\n",
        "           path=f\"{map_state_path}/{state}/{year}/{qtr}\"\n",
        "           print(path)"
      ],
      "metadata": {
        "id": "m0N4CgNzO0DB"
      },
      "execution_count": null,
      "outputs": []
    },
    {
      "cell_type": "code",
      "source": [
        "map_path1=\"/content/pulse/data/map/insurance/country/india/state/andaman-&-nicobar-islands/2020/2.json\"\n",
        "\n",
        "with open(map_path1,'r') as f:\n",
        "  data=json.load(f)\n",
        "data"
      ],
      "metadata": {
        "colab": {
          "base_uri": "https://localhost:8080/"
        },
        "id": "qGDS3QnQP7Y3",
        "outputId": "04e43422-0a98-4af0-992b-741047b466bf"
      },
      "execution_count": null,
      "outputs": [
        {
          "output_type": "execute_result",
          "data": {
            "text/plain": [
              "{'success': True,\n",
              " 'code': 'SUCCESS',\n",
              " 'data': {'meta': {'dataLevel': 'STATE',\n",
              "   'gridLevel': 11,\n",
              "   'percentiles': {'10.0': 1,\n",
              "    '20.0': 1,\n",
              "    '40.0': 2,\n",
              "    '80.0': 3,\n",
              "    '90.0': 3,\n",
              "    '99.5': 3,\n",
              "    '50.0': 2,\n",
              "    '30.0': 2,\n",
              "    '60.0': 2}},\n",
              "  'data': {'columns': ['lat', 'lng', 'metric', 'label'],\n",
              "   'data': [[9.173490186987454, 92.81284629716966, 3.0, 'nicobars district'],\n",
              "    [11.665257436858854, 92.75309356673915, 2.0, 'south andaman district'],\n",
              "    [11.665446250597826, 92.73319282403017, 1.0, 'south andaman district']]}},\n",
              " 'responseTimestamp': 1692610808552}"
            ]
          },
          "metadata": {},
          "execution_count": 12
        }
      ]
    },
    {
      "cell_type": "code",
      "source": [
        "data.keys()"
      ],
      "metadata": {
        "colab": {
          "base_uri": "https://localhost:8080/"
        },
        "id": "v9r1xB3ORAst",
        "outputId": "dd51dafa-c36e-4a49-b746-a1be5df96691"
      },
      "execution_count": null,
      "outputs": [
        {
          "output_type": "execute_result",
          "data": {
            "text/plain": [
              "dict_keys(['success', 'code', 'data', 'responseTimestamp'])"
            ]
          },
          "metadata": {},
          "execution_count": 14
        }
      ]
    },
    {
      "cell_type": "code",
      "source": [
        "data['data']"
      ],
      "metadata": {
        "colab": {
          "base_uri": "https://localhost:8080/"
        },
        "id": "whO2gLGNRILL",
        "outputId": "fca57f5f-7a59-4e28-c133-42a95b0b9b18"
      },
      "execution_count": null,
      "outputs": [
        {
          "output_type": "execute_result",
          "data": {
            "text/plain": [
              "{'meta': {'dataLevel': 'STATE',\n",
              "  'gridLevel': 11,\n",
              "  'percentiles': {'10.0': 1,\n",
              "   '20.0': 1,\n",
              "   '40.0': 2,\n",
              "   '80.0': 3,\n",
              "   '90.0': 3,\n",
              "   '99.5': 3,\n",
              "   '50.0': 2,\n",
              "   '30.0': 2,\n",
              "   '60.0': 2}},\n",
              " 'data': {'columns': ['lat', 'lng', 'metric', 'label'],\n",
              "  'data': [[9.173490186987454, 92.81284629716966, 3.0, 'nicobars district'],\n",
              "   [11.665257436858854, 92.75309356673915, 2.0, 'south andaman district'],\n",
              "   [11.665446250597826, 92.73319282403017, 1.0, 'south andaman district']]}}"
            ]
          },
          "metadata": {},
          "execution_count": 17
        }
      ]
    },
    {
      "cell_type": "code",
      "source": [
        "for i in data['data']['data']:\n",
        "   print(i)"
      ],
      "metadata": {
        "colab": {
          "base_uri": "https://localhost:8080/"
        },
        "id": "R430wnbZVJiz",
        "outputId": "f6d0f4a6-428d-46f1-c61e-b51016372b7c"
      },
      "execution_count": null,
      "outputs": [
        {
          "output_type": "stream",
          "name": "stdout",
          "text": [
            "columns\n",
            "data\n"
          ]
        }
      ]
    },
    {
      "cell_type": "code",
      "source": [
        "for i in data['data']['meta']:\n",
        "             dataLevel=i['dataLevel']\n",
        "             gridLevel=i['gridLevel']\n",
        "             percentiles=i['percentiles']\n",
        "             agg_trans_data2['brand'].append(brand)\n",
        "             agg_trans_data2['transaction_count'].append(count)\n",
        "             agg_trans_data2['percentage'].append(percentage)\n",
        "             agg_trans_data2['States'].append(state)\n",
        "             agg_trans_data2['Years'].append(year)\n",
        "             agg_trans_data2['Quarter'].append(int(qtr.strip(\".json\")))\n",
        "agg_trans_data2"
      ],
      "metadata": {
        "id": "VzOPAo4iTS8x"
      },
      "execution_count": null,
      "outputs": []
    },
    {
      "cell_type": "code",
      "source": [],
      "metadata": {
        "id": "7P94wJouXJ_q"
      },
      "execution_count": null,
      "outputs": []
    },
    {
      "cell_type": "code",
      "source": [],
      "metadata": {
        "id": "Mb-EprNKgQ7a"
      },
      "execution_count": null,
      "outputs": []
    },
    {
      "cell_type": "code",
      "source": [],
      "metadata": {
        "id": "ItbLR_ihgQ4C"
      },
      "execution_count": null,
      "outputs": []
    },
    {
      "cell_type": "code",
      "source": [],
      "metadata": {
        "id": "dFoQ665agQ1M"
      },
      "execution_count": null,
      "outputs": []
    },
    {
      "cell_type": "markdown",
      "source": [
        "#Insurance_hover"
      ],
      "metadata": {
        "id": "3tLCwk8NjJjQ"
      }
    },
    {
      "cell_type": "code",
      "source": [
        "map_hover_state_path=\"/content/pulse/data/map/insurance/hover/country/india/state\"\n",
        "map_hover_state_list=os.listdir(map_hover_state_path)\n",
        "map_hover_state_list"
      ],
      "metadata": {
        "id": "CZXgq65IAKyE"
      },
      "execution_count": null,
      "outputs": []
    },
    {
      "cell_type": "code",
      "source": [
        "for state in map_hover_state_list:\n",
        "    years=os.listdir(f\"{map_hover_state_path}/{state}\")\n",
        "    for year in years:\n",
        "        quarter=os.listdir(f\"{map_hover_state_path}/{state}/{year}\")\n",
        "        for qtr in quarter:\n",
        "           path=f\"{map_hover_state_path}/{state}/{year}/{qtr}\"\n",
        "           print(path)"
      ],
      "metadata": {
        "id": "sYukeQwjA0R_"
      },
      "execution_count": null,
      "outputs": []
    },
    {
      "cell_type": "code",
      "source": [
        "map_hover_path=\"/content/pulse/data/map/insurance/hover/country/india/state/andaman-&-nicobar-islands/2020/2.json\"\n",
        "with open(map_hover_path,'r') as f:\n",
        "  data=json.load(f)\n",
        "data\n"
      ],
      "metadata": {
        "colab": {
          "base_uri": "https://localhost:8080/"
        },
        "id": "QlA7Cl_UBXdV",
        "outputId": "ba18ae4d-541c-4642-ddad-ded800e1445c"
      },
      "execution_count": null,
      "outputs": [
        {
          "output_type": "execute_result",
          "data": {
            "text/plain": [
              "{'success': True,\n",
              " 'code': 'SUCCESS',\n",
              " 'data': {'hoverDataList': [{'name': 'south andaman district',\n",
              "    'metric': [{'type': 'TOTAL', 'count': 3, 'amount': 795.0}]},\n",
              "   {'name': 'nicobars district',\n",
              "    'metric': [{'type': 'TOTAL', 'count': 3, 'amount': 565.0}]}]},\n",
              " 'responseTimestamp': 1692610808730}"
            ]
          },
          "metadata": {},
          "execution_count": 6
        }
      ]
    },
    {
      "cell_type": "code",
      "source": [
        "data.keys()"
      ],
      "metadata": {
        "colab": {
          "base_uri": "https://localhost:8080/"
        },
        "id": "GH-yB6yTB746",
        "outputId": "059f3dad-cb38-41da-f939-5585304c37d8"
      },
      "execution_count": null,
      "outputs": [
        {
          "output_type": "execute_result",
          "data": {
            "text/plain": [
              "dict_keys(['success', 'code', 'data', 'responseTimestamp'])"
            ]
          },
          "metadata": {},
          "execution_count": 7
        }
      ]
    },
    {
      "cell_type": "code",
      "source": [
        "data['data']"
      ],
      "metadata": {
        "colab": {
          "base_uri": "https://localhost:8080/"
        },
        "id": "V3zvuMiLCBCW",
        "outputId": "d24b03de-ee9b-4d77-be52-35b4b9bc9ff8"
      },
      "execution_count": null,
      "outputs": [
        {
          "output_type": "execute_result",
          "data": {
            "text/plain": [
              "{'hoverDataList': [{'name': 'south andaman district',\n",
              "   'metric': [{'type': 'TOTAL', 'count': 3, 'amount': 795.0}]},\n",
              "  {'name': 'nicobars district',\n",
              "   'metric': [{'type': 'TOTAL', 'count': 3, 'amount': 565.0}]}]}"
            ]
          },
          "metadata": {},
          "execution_count": 8
        }
      ]
    },
    {
      "cell_type": "code",
      "source": [
        "data['data']['hoverDataList'][0]['metric']"
      ],
      "metadata": {
        "colab": {
          "base_uri": "https://localhost:8080/"
        },
        "id": "rdHDEtoXC45p",
        "outputId": "ab0e13d2-608f-4496-fa0a-1e8ec711fe10"
      },
      "execution_count": null,
      "outputs": [
        {
          "output_type": "execute_result",
          "data": {
            "text/plain": [
              "[{'type': 'TOTAL', 'count': 3, 'amount': 795.0}]"
            ]
          },
          "metadata": {},
          "execution_count": 10
        }
      ]
    },
    {
      "cell_type": "code",
      "source": [
        "map_hover_ins_data={'States':[], 'Years':[], 'Quarter':[], 'district':[], 'transaction_count':[], 'transaction_amount':[]}\n",
        "\n",
        "\n",
        "for state in map_hover_state_list:\n",
        "    years=os.listdir(f\"{map_hover_state_path}/{state}\")\n",
        "    for year in years:\n",
        "        quarter=os.listdir(f\"{map_hover_state_path}/{state}/{year}\")\n",
        "        for qtr in quarter:\n",
        "           path=f\"{map_hover_state_path}/{state}/{year}/{qtr}\"\n",
        "           #print(path)\n",
        "\n",
        "           with open(map_hover_path,'r') as f:\n",
        "              data=json.load(f)\n",
        "           #print(data)\n",
        "\n",
        "           for i in data['data']['hoverDataList']:\n",
        "             district=i['name']\n",
        "             count=i['metric'][0]['count']\n",
        "             amount=i['metric'][0]['amount']\n",
        "             map_hover_ins_data['district'].append(district)\n",
        "             map_hover_ins_data['transaction_count'].append(count)\n",
        "             map_hover_ins_data['transaction_amount'].append(amount)\n",
        "             map_hover_ins_data['States'].append(state)\n",
        "             map_hover_ins_data['Years'].append(year)\n",
        "             map_hover_ins_data['Quarter'].append(int(qtr.strip(\".json\")))\n",
        "map_hover_ins_data"
      ],
      "metadata": {
        "id": "TqVakRaSDZji"
      },
      "execution_count": null,
      "outputs": []
    },
    {
      "cell_type": "code",
      "source": [
        "map_hover_ins_df=pd.DataFrame(map_hover_ins_data)\n",
        "map_hover_ins_df"
      ],
      "metadata": {
        "colab": {
          "base_uri": "https://localhost:8080/",
          "height": 423
        },
        "id": "wFlYgMAqGYU0",
        "outputId": "bb3302ca-4c46-40bf-d31b-70336f0158d7"
      },
      "execution_count": null,
      "outputs": [
        {
          "output_type": "execute_result",
          "data": {
            "text/plain": [
              "                         States Years  Quarter                district  \\\n",
              "0                   lakshadweep  2023        2  south andaman district   \n",
              "1                   lakshadweep  2023        2       nicobars district   \n",
              "2                   lakshadweep  2023        3  south andaman district   \n",
              "3                   lakshadweep  2023        3       nicobars district   \n",
              "4                   lakshadweep  2023        1  south andaman district   \n",
              "...                         ...   ...      ...                     ...   \n",
              "1363  andaman-&-nicobar-islands  2021        3       nicobars district   \n",
              "1364  andaman-&-nicobar-islands  2021        1  south andaman district   \n",
              "1365  andaman-&-nicobar-islands  2021        1       nicobars district   \n",
              "1366  andaman-&-nicobar-islands  2021        4  south andaman district   \n",
              "1367  andaman-&-nicobar-islands  2021        4       nicobars district   \n",
              "\n",
              "      transaction_count  transaction_amount  \n",
              "0                     3               795.0  \n",
              "1                     3               565.0  \n",
              "2                     3               795.0  \n",
              "3                     3               565.0  \n",
              "4                     3               795.0  \n",
              "...                 ...                 ...  \n",
              "1363                  3               565.0  \n",
              "1364                  3               795.0  \n",
              "1365                  3               565.0  \n",
              "1366                  3               795.0  \n",
              "1367                  3               565.0  \n",
              "\n",
              "[1368 rows x 6 columns]"
            ],
            "text/html": [
              "\n",
              "  <div id=\"df-2ff37d0e-ae8d-43e8-b88d-2aa69a190852\" class=\"colab-df-container\">\n",
              "    <div>\n",
              "<style scoped>\n",
              "    .dataframe tbody tr th:only-of-type {\n",
              "        vertical-align: middle;\n",
              "    }\n",
              "\n",
              "    .dataframe tbody tr th {\n",
              "        vertical-align: top;\n",
              "    }\n",
              "\n",
              "    .dataframe thead th {\n",
              "        text-align: right;\n",
              "    }\n",
              "</style>\n",
              "<table border=\"1\" class=\"dataframe\">\n",
              "  <thead>\n",
              "    <tr style=\"text-align: right;\">\n",
              "      <th></th>\n",
              "      <th>States</th>\n",
              "      <th>Years</th>\n",
              "      <th>Quarter</th>\n",
              "      <th>district</th>\n",
              "      <th>transaction_count</th>\n",
              "      <th>transaction_amount</th>\n",
              "    </tr>\n",
              "  </thead>\n",
              "  <tbody>\n",
              "    <tr>\n",
              "      <th>0</th>\n",
              "      <td>lakshadweep</td>\n",
              "      <td>2023</td>\n",
              "      <td>2</td>\n",
              "      <td>south andaman district</td>\n",
              "      <td>3</td>\n",
              "      <td>795.0</td>\n",
              "    </tr>\n",
              "    <tr>\n",
              "      <th>1</th>\n",
              "      <td>lakshadweep</td>\n",
              "      <td>2023</td>\n",
              "      <td>2</td>\n",
              "      <td>nicobars district</td>\n",
              "      <td>3</td>\n",
              "      <td>565.0</td>\n",
              "    </tr>\n",
              "    <tr>\n",
              "      <th>2</th>\n",
              "      <td>lakshadweep</td>\n",
              "      <td>2023</td>\n",
              "      <td>3</td>\n",
              "      <td>south andaman district</td>\n",
              "      <td>3</td>\n",
              "      <td>795.0</td>\n",
              "    </tr>\n",
              "    <tr>\n",
              "      <th>3</th>\n",
              "      <td>lakshadweep</td>\n",
              "      <td>2023</td>\n",
              "      <td>3</td>\n",
              "      <td>nicobars district</td>\n",
              "      <td>3</td>\n",
              "      <td>565.0</td>\n",
              "    </tr>\n",
              "    <tr>\n",
              "      <th>4</th>\n",
              "      <td>lakshadweep</td>\n",
              "      <td>2023</td>\n",
              "      <td>1</td>\n",
              "      <td>south andaman district</td>\n",
              "      <td>3</td>\n",
              "      <td>795.0</td>\n",
              "    </tr>\n",
              "    <tr>\n",
              "      <th>...</th>\n",
              "      <td>...</td>\n",
              "      <td>...</td>\n",
              "      <td>...</td>\n",
              "      <td>...</td>\n",
              "      <td>...</td>\n",
              "      <td>...</td>\n",
              "    </tr>\n",
              "    <tr>\n",
              "      <th>1363</th>\n",
              "      <td>andaman-&amp;-nicobar-islands</td>\n",
              "      <td>2021</td>\n",
              "      <td>3</td>\n",
              "      <td>nicobars district</td>\n",
              "      <td>3</td>\n",
              "      <td>565.0</td>\n",
              "    </tr>\n",
              "    <tr>\n",
              "      <th>1364</th>\n",
              "      <td>andaman-&amp;-nicobar-islands</td>\n",
              "      <td>2021</td>\n",
              "      <td>1</td>\n",
              "      <td>south andaman district</td>\n",
              "      <td>3</td>\n",
              "      <td>795.0</td>\n",
              "    </tr>\n",
              "    <tr>\n",
              "      <th>1365</th>\n",
              "      <td>andaman-&amp;-nicobar-islands</td>\n",
              "      <td>2021</td>\n",
              "      <td>1</td>\n",
              "      <td>nicobars district</td>\n",
              "      <td>3</td>\n",
              "      <td>565.0</td>\n",
              "    </tr>\n",
              "    <tr>\n",
              "      <th>1366</th>\n",
              "      <td>andaman-&amp;-nicobar-islands</td>\n",
              "      <td>2021</td>\n",
              "      <td>4</td>\n",
              "      <td>south andaman district</td>\n",
              "      <td>3</td>\n",
              "      <td>795.0</td>\n",
              "    </tr>\n",
              "    <tr>\n",
              "      <th>1367</th>\n",
              "      <td>andaman-&amp;-nicobar-islands</td>\n",
              "      <td>2021</td>\n",
              "      <td>4</td>\n",
              "      <td>nicobars district</td>\n",
              "      <td>3</td>\n",
              "      <td>565.0</td>\n",
              "    </tr>\n",
              "  </tbody>\n",
              "</table>\n",
              "<p>1368 rows × 6 columns</p>\n",
              "</div>\n",
              "    <div class=\"colab-df-buttons\">\n",
              "\n",
              "  <div class=\"colab-df-container\">\n",
              "    <button class=\"colab-df-convert\" onclick=\"convertToInteractive('df-2ff37d0e-ae8d-43e8-b88d-2aa69a190852')\"\n",
              "            title=\"Convert this dataframe to an interactive table.\"\n",
              "            style=\"display:none;\">\n",
              "\n",
              "  <svg xmlns=\"http://www.w3.org/2000/svg\" height=\"24px\" viewBox=\"0 -960 960 960\">\n",
              "    <path d=\"M120-120v-720h720v720H120Zm60-500h600v-160H180v160Zm220 220h160v-160H400v160Zm0 220h160v-160H400v160ZM180-400h160v-160H180v160Zm440 0h160v-160H620v160ZM180-180h160v-160H180v160Zm440 0h160v-160H620v160Z\"/>\n",
              "  </svg>\n",
              "    </button>\n",
              "\n",
              "  <style>\n",
              "    .colab-df-container {\n",
              "      display:flex;\n",
              "      gap: 12px;\n",
              "    }\n",
              "\n",
              "    .colab-df-convert {\n",
              "      background-color: #E8F0FE;\n",
              "      border: none;\n",
              "      border-radius: 50%;\n",
              "      cursor: pointer;\n",
              "      display: none;\n",
              "      fill: #1967D2;\n",
              "      height: 32px;\n",
              "      padding: 0 0 0 0;\n",
              "      width: 32px;\n",
              "    }\n",
              "\n",
              "    .colab-df-convert:hover {\n",
              "      background-color: #E2EBFA;\n",
              "      box-shadow: 0px 1px 2px rgba(60, 64, 67, 0.3), 0px 1px 3px 1px rgba(60, 64, 67, 0.15);\n",
              "      fill: #174EA6;\n",
              "    }\n",
              "\n",
              "    .colab-df-buttons div {\n",
              "      margin-bottom: 4px;\n",
              "    }\n",
              "\n",
              "    [theme=dark] .colab-df-convert {\n",
              "      background-color: #3B4455;\n",
              "      fill: #D2E3FC;\n",
              "    }\n",
              "\n",
              "    [theme=dark] .colab-df-convert:hover {\n",
              "      background-color: #434B5C;\n",
              "      box-shadow: 0px 1px 3px 1px rgba(0, 0, 0, 0.15);\n",
              "      filter: drop-shadow(0px 1px 2px rgba(0, 0, 0, 0.3));\n",
              "      fill: #FFFFFF;\n",
              "    }\n",
              "  </style>\n",
              "\n",
              "    <script>\n",
              "      const buttonEl =\n",
              "        document.querySelector('#df-2ff37d0e-ae8d-43e8-b88d-2aa69a190852 button.colab-df-convert');\n",
              "      buttonEl.style.display =\n",
              "        google.colab.kernel.accessAllowed ? 'block' : 'none';\n",
              "\n",
              "      async function convertToInteractive(key) {\n",
              "        const element = document.querySelector('#df-2ff37d0e-ae8d-43e8-b88d-2aa69a190852');\n",
              "        const dataTable =\n",
              "          await google.colab.kernel.invokeFunction('convertToInteractive',\n",
              "                                                    [key], {});\n",
              "        if (!dataTable) return;\n",
              "\n",
              "        const docLinkHtml = 'Like what you see? Visit the ' +\n",
              "          '<a target=\"_blank\" href=https://colab.research.google.com/notebooks/data_table.ipynb>data table notebook</a>'\n",
              "          + ' to learn more about interactive tables.';\n",
              "        element.innerHTML = '';\n",
              "        dataTable['output_type'] = 'display_data';\n",
              "        await google.colab.output.renderOutput(dataTable, element);\n",
              "        const docLink = document.createElement('div');\n",
              "        docLink.innerHTML = docLinkHtml;\n",
              "        element.appendChild(docLink);\n",
              "      }\n",
              "    </script>\n",
              "  </div>\n",
              "\n",
              "\n",
              "    <div id=\"df-76f7fda1-6234-4fea-ad5e-4b4419de0dc0\">\n",
              "      <button class=\"colab-df-quickchart\" onclick=\"quickchart('df-76f7fda1-6234-4fea-ad5e-4b4419de0dc0')\"\n",
              "                title=\"Suggest charts\"\n",
              "                style=\"display:none;\">\n",
              "\n",
              "<svg xmlns=\"http://www.w3.org/2000/svg\" height=\"24px\"viewBox=\"0 0 24 24\"\n",
              "     width=\"24px\">\n",
              "    <g>\n",
              "        <path d=\"M19 3H5c-1.1 0-2 .9-2 2v14c0 1.1.9 2 2 2h14c1.1 0 2-.9 2-2V5c0-1.1-.9-2-2-2zM9 17H7v-7h2v7zm4 0h-2V7h2v10zm4 0h-2v-4h2v4z\"/>\n",
              "    </g>\n",
              "</svg>\n",
              "      </button>\n",
              "\n",
              "<style>\n",
              "  .colab-df-quickchart {\n",
              "      --bg-color: #E8F0FE;\n",
              "      --fill-color: #1967D2;\n",
              "      --hover-bg-color: #E2EBFA;\n",
              "      --hover-fill-color: #174EA6;\n",
              "      --disabled-fill-color: #AAA;\n",
              "      --disabled-bg-color: #DDD;\n",
              "  }\n",
              "\n",
              "  [theme=dark] .colab-df-quickchart {\n",
              "      --bg-color: #3B4455;\n",
              "      --fill-color: #D2E3FC;\n",
              "      --hover-bg-color: #434B5C;\n",
              "      --hover-fill-color: #FFFFFF;\n",
              "      --disabled-bg-color: #3B4455;\n",
              "      --disabled-fill-color: #666;\n",
              "  }\n",
              "\n",
              "  .colab-df-quickchart {\n",
              "    background-color: var(--bg-color);\n",
              "    border: none;\n",
              "    border-radius: 50%;\n",
              "    cursor: pointer;\n",
              "    display: none;\n",
              "    fill: var(--fill-color);\n",
              "    height: 32px;\n",
              "    padding: 0;\n",
              "    width: 32px;\n",
              "  }\n",
              "\n",
              "  .colab-df-quickchart:hover {\n",
              "    background-color: var(--hover-bg-color);\n",
              "    box-shadow: 0 1px 2px rgba(60, 64, 67, 0.3), 0 1px 3px 1px rgba(60, 64, 67, 0.15);\n",
              "    fill: var(--button-hover-fill-color);\n",
              "  }\n",
              "\n",
              "  .colab-df-quickchart-complete:disabled,\n",
              "  .colab-df-quickchart-complete:disabled:hover {\n",
              "    background-color: var(--disabled-bg-color);\n",
              "    fill: var(--disabled-fill-color);\n",
              "    box-shadow: none;\n",
              "  }\n",
              "\n",
              "  .colab-df-spinner {\n",
              "    border: 2px solid var(--fill-color);\n",
              "    border-color: transparent;\n",
              "    border-bottom-color: var(--fill-color);\n",
              "    animation:\n",
              "      spin 1s steps(1) infinite;\n",
              "  }\n",
              "\n",
              "  @keyframes spin {\n",
              "    0% {\n",
              "      border-color: transparent;\n",
              "      border-bottom-color: var(--fill-color);\n",
              "      border-left-color: var(--fill-color);\n",
              "    }\n",
              "    20% {\n",
              "      border-color: transparent;\n",
              "      border-left-color: var(--fill-color);\n",
              "      border-top-color: var(--fill-color);\n",
              "    }\n",
              "    30% {\n",
              "      border-color: transparent;\n",
              "      border-left-color: var(--fill-color);\n",
              "      border-top-color: var(--fill-color);\n",
              "      border-right-color: var(--fill-color);\n",
              "    }\n",
              "    40% {\n",
              "      border-color: transparent;\n",
              "      border-right-color: var(--fill-color);\n",
              "      border-top-color: var(--fill-color);\n",
              "    }\n",
              "    60% {\n",
              "      border-color: transparent;\n",
              "      border-right-color: var(--fill-color);\n",
              "    }\n",
              "    80% {\n",
              "      border-color: transparent;\n",
              "      border-right-color: var(--fill-color);\n",
              "      border-bottom-color: var(--fill-color);\n",
              "    }\n",
              "    90% {\n",
              "      border-color: transparent;\n",
              "      border-bottom-color: var(--fill-color);\n",
              "    }\n",
              "  }\n",
              "</style>\n",
              "\n",
              "      <script>\n",
              "        async function quickchart(key) {\n",
              "          const quickchartButtonEl =\n",
              "            document.querySelector('#' + key + ' button');\n",
              "          quickchartButtonEl.disabled = true;  // To prevent multiple clicks.\n",
              "          quickchartButtonEl.classList.add('colab-df-spinner');\n",
              "          try {\n",
              "            const charts = await google.colab.kernel.invokeFunction(\n",
              "                'suggestCharts', [key], {});\n",
              "          } catch (error) {\n",
              "            console.error('Error during call to suggestCharts:', error);\n",
              "          }\n",
              "          quickchartButtonEl.classList.remove('colab-df-spinner');\n",
              "          quickchartButtonEl.classList.add('colab-df-quickchart-complete');\n",
              "        }\n",
              "        (() => {\n",
              "          let quickchartButtonEl =\n",
              "            document.querySelector('#df-76f7fda1-6234-4fea-ad5e-4b4419de0dc0 button');\n",
              "          quickchartButtonEl.style.display =\n",
              "            google.colab.kernel.accessAllowed ? 'block' : 'none';\n",
              "        })();\n",
              "      </script>\n",
              "    </div>\n",
              "\n",
              "  <div id=\"id_33ef0b60-01d4-4b86-97c5-9ad484412a00\">\n",
              "    <style>\n",
              "      .colab-df-generate {\n",
              "        background-color: #E8F0FE;\n",
              "        border: none;\n",
              "        border-radius: 50%;\n",
              "        cursor: pointer;\n",
              "        display: none;\n",
              "        fill: #1967D2;\n",
              "        height: 32px;\n",
              "        padding: 0 0 0 0;\n",
              "        width: 32px;\n",
              "      }\n",
              "\n",
              "      .colab-df-generate:hover {\n",
              "        background-color: #E2EBFA;\n",
              "        box-shadow: 0px 1px 2px rgba(60, 64, 67, 0.3), 0px 1px 3px 1px rgba(60, 64, 67, 0.15);\n",
              "        fill: #174EA6;\n",
              "      }\n",
              "\n",
              "      [theme=dark] .colab-df-generate {\n",
              "        background-color: #3B4455;\n",
              "        fill: #D2E3FC;\n",
              "      }\n",
              "\n",
              "      [theme=dark] .colab-df-generate:hover {\n",
              "        background-color: #434B5C;\n",
              "        box-shadow: 0px 1px 3px 1px rgba(0, 0, 0, 0.15);\n",
              "        filter: drop-shadow(0px 1px 2px rgba(0, 0, 0, 0.3));\n",
              "        fill: #FFFFFF;\n",
              "      }\n",
              "    </style>\n",
              "    <button class=\"colab-df-generate\" onclick=\"generateWithVariable('map_hover_ins_df')\"\n",
              "            title=\"Generate code using this dataframe.\"\n",
              "            style=\"display:none;\">\n",
              "\n",
              "  <svg xmlns=\"http://www.w3.org/2000/svg\" height=\"24px\"viewBox=\"0 0 24 24\"\n",
              "       width=\"24px\">\n",
              "    <path d=\"M7,19H8.4L18.45,9,17,7.55,7,17.6ZM5,21V16.75L18.45,3.32a2,2,0,0,1,2.83,0l1.4,1.43a1.91,1.91,0,0,1,.58,1.4,1.91,1.91,0,0,1-.58,1.4L9.25,21ZM18.45,9,17,7.55Zm-12,3A5.31,5.31,0,0,0,4.9,8.1,5.31,5.31,0,0,0,1,6.5,5.31,5.31,0,0,0,4.9,4.9,5.31,5.31,0,0,0,6.5,1,5.31,5.31,0,0,0,8.1,4.9,5.31,5.31,0,0,0,12,6.5,5.46,5.46,0,0,0,6.5,12Z\"/>\n",
              "  </svg>\n",
              "    </button>\n",
              "    <script>\n",
              "      (() => {\n",
              "      const buttonEl =\n",
              "        document.querySelector('#id_33ef0b60-01d4-4b86-97c5-9ad484412a00 button.colab-df-generate');\n",
              "      buttonEl.style.display =\n",
              "        google.colab.kernel.accessAllowed ? 'block' : 'none';\n",
              "\n",
              "      buttonEl.onclick = () => {\n",
              "        google.colab.notebook.generateWithVariable('map_hover_ins_df');\n",
              "      }\n",
              "      })();\n",
              "    </script>\n",
              "  </div>\n",
              "\n",
              "    </div>\n",
              "  </div>\n"
            ],
            "application/vnd.google.colaboratory.intrinsic+json": {
              "type": "dataframe",
              "variable_name": "map_hover_ins_df",
              "summary": "{\n  \"name\": \"map_hover_ins_df\",\n  \"rows\": 1368,\n  \"fields\": [\n    {\n      \"column\": \"States\",\n      \"properties\": {\n        \"dtype\": \"category\",\n        \"num_unique_values\": 36,\n        \"samples\": [\n          \"andaman-&-nicobar-islands\",\n          \"tamil-nadu\",\n          \"maharashtra\"\n        ],\n        \"semantic_type\": \"\",\n        \"description\": \"\"\n      }\n    },\n    {\n      \"column\": \"Years\",\n      \"properties\": {\n        \"dtype\": \"object\",\n        \"num_unique_values\": 5,\n        \"samples\": [\n          \"2020\",\n          \"2021\",\n          \"2022\"\n        ],\n        \"semantic_type\": \"\",\n        \"description\": \"\"\n      }\n    },\n    {\n      \"column\": \"Quarter\",\n      \"properties\": {\n        \"dtype\": \"number\",\n        \"std\": 1,\n        \"min\": 1,\n        \"max\": 4,\n        \"num_unique_values\": 4,\n        \"samples\": [\n          3,\n          4,\n          2\n        ],\n        \"semantic_type\": \"\",\n        \"description\": \"\"\n      }\n    },\n    {\n      \"column\": \"district\",\n      \"properties\": {\n        \"dtype\": \"category\",\n        \"num_unique_values\": 2,\n        \"samples\": [\n          \"nicobars district\",\n          \"south andaman district\"\n        ],\n        \"semantic_type\": \"\",\n        \"description\": \"\"\n      }\n    },\n    {\n      \"column\": \"transaction_count\",\n      \"properties\": {\n        \"dtype\": \"number\",\n        \"std\": 0,\n        \"min\": 3,\n        \"max\": 3,\n        \"num_unique_values\": 1,\n        \"samples\": [\n          3\n        ],\n        \"semantic_type\": \"\",\n        \"description\": \"\"\n      }\n    },\n    {\n      \"column\": \"transaction_amount\",\n      \"properties\": {\n        \"dtype\": \"number\",\n        \"std\": 115.0420552217386,\n        \"min\": 565.0,\n        \"max\": 795.0,\n        \"num_unique_values\": 2,\n        \"samples\": [\n          565.0\n        ],\n        \"semantic_type\": \"\",\n        \"description\": \"\"\n      }\n    }\n  ]\n}"
            }
          },
          "metadata": {},
          "execution_count": 23
        }
      ]
    },
    {
      "cell_type": "markdown",
      "source": [
        "#Transaction_hover"
      ],
      "metadata": {
        "id": "aDZkmoGvjs_y"
      }
    },
    {
      "cell_type": "code",
      "source": [
        "map_hover_trans_state_path=\"/content/pulse/data/map/transaction/hover/country/india/state\"\n",
        "map_hover_trans_state_list=os.listdir(map_hover_trans_state_path)\n",
        "map_hover_trans_state_list"
      ],
      "metadata": {
        "id": "DCHi-X7EHo2n"
      },
      "execution_count": null,
      "outputs": []
    },
    {
      "cell_type": "code",
      "source": [
        "for state in map_hover_trans_state_list:\n",
        "    years=os.listdir(f\"{map_hover_trans_state_path}/{state}\")\n",
        "    for year in years:\n",
        "        quarter=os.listdir(f\"{map_hover_trans_state_path}/{state}/{year}\")\n",
        "        for qtr in quarter:\n",
        "           path=f\"{map_hover_trans_state_path}/{state}/{year}/{qtr}\"\n",
        "           print(path)"
      ],
      "metadata": {
        "id": "xhlixX6_LGoJ"
      },
      "execution_count": null,
      "outputs": []
    },
    {
      "cell_type": "code",
      "source": [
        "map_hover_trans_path=\"/content/pulse/data/map/transaction/hover/country/india/state/andaman-&-nicobar-islands/2018/1.json\"\n",
        "with open(map_hover_trans_path,'r') as f:\n",
        "  data=json.load(f)\n",
        "data"
      ],
      "metadata": {
        "colab": {
          "base_uri": "https://localhost:8080/"
        },
        "id": "7Kf0ZgGjMuQe",
        "outputId": "ed70d414-83f3-4921-d6af-1e5eff93fe6b"
      },
      "execution_count": null,
      "outputs": [
        {
          "output_type": "execute_result",
          "data": {
            "text/plain": [
              "{'success': True,\n",
              " 'code': 'SUCCESS',\n",
              " 'data': {'hoverDataList': [{'name': 'north and middle andaman district',\n",
              "    'metric': [{'type': 'TOTAL', 'count': 442, 'amount': 931663.0770939873}]},\n",
              "   {'name': 'south andaman district',\n",
              "    'metric': [{'type': 'TOTAL', 'count': 5688, 'amount': 12560249.34366581}]},\n",
              "   {'name': 'nicobars district',\n",
              "    'metric': [{'type': 'TOTAL',\n",
              "      'count': 528,\n",
              "      'amount': 1139848.801225994}]}]},\n",
              " 'responseTimestamp': 1630502910687}"
            ]
          },
          "metadata": {},
          "execution_count": 58
        }
      ]
    },
    {
      "cell_type": "code",
      "source": [
        "data.keys()"
      ],
      "metadata": {
        "colab": {
          "base_uri": "https://localhost:8080/"
        },
        "id": "HXRfVxA3NSV2",
        "outputId": "b3a747a9-ea82-45cf-b22e-b86d548494af"
      },
      "execution_count": null,
      "outputs": [
        {
          "output_type": "execute_result",
          "data": {
            "text/plain": [
              "dict_keys(['success', 'code', 'data', 'responseTimestamp'])"
            ]
          },
          "metadata": {},
          "execution_count": 59
        }
      ]
    },
    {
      "cell_type": "code",
      "source": [
        "data['data']"
      ],
      "metadata": {
        "colab": {
          "base_uri": "https://localhost:8080/"
        },
        "collapsed": true,
        "id": "3WkllGcgNZlC",
        "outputId": "31316d9a-7497-465f-f51d-f709fa011f34"
      },
      "execution_count": null,
      "outputs": [
        {
          "output_type": "execute_result",
          "data": {
            "text/plain": [
              "{'hoverDataList': [{'name': 'north and middle andaman district',\n",
              "   'metric': [{'type': 'TOTAL', 'count': 442, 'amount': 931663.0770939873}]},\n",
              "  {'name': 'south andaman district',\n",
              "   'metric': [{'type': 'TOTAL', 'count': 5688, 'amount': 12560249.34366581}]},\n",
              "  {'name': 'nicobars district',\n",
              "   'metric': [{'type': 'TOTAL', 'count': 528, 'amount': 1139848.801225994}]}]}"
            ]
          },
          "metadata": {},
          "execution_count": 60
        }
      ]
    },
    {
      "cell_type": "code",
      "source": [
        "map_hover_trans_data={'States':[], 'Years':[], 'Quarter':[], 'district':[], 'transaction_count':[], 'transaction_amount':[]}\n",
        "\n",
        "\n",
        "for state in map_hover_state_list:\n",
        "    years=os.listdir(f\"{map_hover_state_path}/{state}\")\n",
        "    for year in years:\n",
        "        quarter=os.listdir(f\"{map_hover_state_path}/{state}/{year}\")\n",
        "        for qtr in quarter:\n",
        "           path=f\"{map_hover_state_path}/{state}/{year}/{qtr}\"\n",
        "           #print(path)\n",
        "\n",
        "           with open(map_hover_trans_path,'r') as f:\n",
        "              data=json.load(f)\n",
        "           #print(data)\n",
        "\n",
        "           for i in data['data']['hoverDataList']:\n",
        "             district=i['name']\n",
        "             count=i['metric'][0]['count']\n",
        "             amount=i['metric'][0]['amount']\n",
        "             map_hover_trans_data['district'].append(district)\n",
        "             map_hover_trans_data['transaction_count'].append(count)\n",
        "             map_hover_trans_data['transaction_amount'].append(amount)\n",
        "             map_hover_trans_data['States'].append(state)\n",
        "             map_hover_trans_data['Years'].append(year)\n",
        "             map_hover_trans_data['Quarter'].append(int(qtr.strip(\".json\")))\n",
        "map_hover_trans_data"
      ],
      "metadata": {
        "id": "YGG6H4Pve0Et"
      },
      "execution_count": null,
      "outputs": []
    },
    {
      "cell_type": "code",
      "source": [
        "map_hover_trans_data_df=pd.DataFrame(map_hover_trans_data)\n",
        "map_hover_trans_data_df"
      ],
      "metadata": {
        "colab": {
          "base_uri": "https://localhost:8080/",
          "height": 423
        },
        "id": "sWr16YxehFrw",
        "outputId": "df46aaa9-5eba-440a-e132-858b126c9419"
      },
      "execution_count": null,
      "outputs": [
        {
          "output_type": "execute_result",
          "data": {
            "text/plain": [
              "                         States Years  Quarter  \\\n",
              "0                   lakshadweep  2023        2   \n",
              "1                   lakshadweep  2023        2   \n",
              "2                   lakshadweep  2023        2   \n",
              "3                   lakshadweep  2023        3   \n",
              "4                   lakshadweep  2023        3   \n",
              "...                         ...   ...      ...   \n",
              "2047  andaman-&-nicobar-islands  2021        1   \n",
              "2048  andaman-&-nicobar-islands  2021        1   \n",
              "2049  andaman-&-nicobar-islands  2021        4   \n",
              "2050  andaman-&-nicobar-islands  2021        4   \n",
              "2051  andaman-&-nicobar-islands  2021        4   \n",
              "\n",
              "                               district  transaction_count  transaction_amount  \n",
              "0     north and middle andaman district                442        9.316631e+05  \n",
              "1                south andaman district               5688        1.256025e+07  \n",
              "2                     nicobars district                528        1.139849e+06  \n",
              "3     north and middle andaman district                442        9.316631e+05  \n",
              "4                south andaman district               5688        1.256025e+07  \n",
              "...                                 ...                ...                 ...  \n",
              "2047             south andaman district               5688        1.256025e+07  \n",
              "2048                  nicobars district                528        1.139849e+06  \n",
              "2049  north and middle andaman district                442        9.316631e+05  \n",
              "2050             south andaman district               5688        1.256025e+07  \n",
              "2051                  nicobars district                528        1.139849e+06  \n",
              "\n",
              "[2052 rows x 6 columns]"
            ],
            "text/html": [
              "\n",
              "  <div id=\"df-1146fcbc-a43d-4446-8bf4-39d62a664fc3\" class=\"colab-df-container\">\n",
              "    <div>\n",
              "<style scoped>\n",
              "    .dataframe tbody tr th:only-of-type {\n",
              "        vertical-align: middle;\n",
              "    }\n",
              "\n",
              "    .dataframe tbody tr th {\n",
              "        vertical-align: top;\n",
              "    }\n",
              "\n",
              "    .dataframe thead th {\n",
              "        text-align: right;\n",
              "    }\n",
              "</style>\n",
              "<table border=\"1\" class=\"dataframe\">\n",
              "  <thead>\n",
              "    <tr style=\"text-align: right;\">\n",
              "      <th></th>\n",
              "      <th>States</th>\n",
              "      <th>Years</th>\n",
              "      <th>Quarter</th>\n",
              "      <th>district</th>\n",
              "      <th>transaction_count</th>\n",
              "      <th>transaction_amount</th>\n",
              "    </tr>\n",
              "  </thead>\n",
              "  <tbody>\n",
              "    <tr>\n",
              "      <th>0</th>\n",
              "      <td>lakshadweep</td>\n",
              "      <td>2023</td>\n",
              "      <td>2</td>\n",
              "      <td>north and middle andaman district</td>\n",
              "      <td>442</td>\n",
              "      <td>9.316631e+05</td>\n",
              "    </tr>\n",
              "    <tr>\n",
              "      <th>1</th>\n",
              "      <td>lakshadweep</td>\n",
              "      <td>2023</td>\n",
              "      <td>2</td>\n",
              "      <td>south andaman district</td>\n",
              "      <td>5688</td>\n",
              "      <td>1.256025e+07</td>\n",
              "    </tr>\n",
              "    <tr>\n",
              "      <th>2</th>\n",
              "      <td>lakshadweep</td>\n",
              "      <td>2023</td>\n",
              "      <td>2</td>\n",
              "      <td>nicobars district</td>\n",
              "      <td>528</td>\n",
              "      <td>1.139849e+06</td>\n",
              "    </tr>\n",
              "    <tr>\n",
              "      <th>3</th>\n",
              "      <td>lakshadweep</td>\n",
              "      <td>2023</td>\n",
              "      <td>3</td>\n",
              "      <td>north and middle andaman district</td>\n",
              "      <td>442</td>\n",
              "      <td>9.316631e+05</td>\n",
              "    </tr>\n",
              "    <tr>\n",
              "      <th>4</th>\n",
              "      <td>lakshadweep</td>\n",
              "      <td>2023</td>\n",
              "      <td>3</td>\n",
              "      <td>south andaman district</td>\n",
              "      <td>5688</td>\n",
              "      <td>1.256025e+07</td>\n",
              "    </tr>\n",
              "    <tr>\n",
              "      <th>...</th>\n",
              "      <td>...</td>\n",
              "      <td>...</td>\n",
              "      <td>...</td>\n",
              "      <td>...</td>\n",
              "      <td>...</td>\n",
              "      <td>...</td>\n",
              "    </tr>\n",
              "    <tr>\n",
              "      <th>2047</th>\n",
              "      <td>andaman-&amp;-nicobar-islands</td>\n",
              "      <td>2021</td>\n",
              "      <td>1</td>\n",
              "      <td>south andaman district</td>\n",
              "      <td>5688</td>\n",
              "      <td>1.256025e+07</td>\n",
              "    </tr>\n",
              "    <tr>\n",
              "      <th>2048</th>\n",
              "      <td>andaman-&amp;-nicobar-islands</td>\n",
              "      <td>2021</td>\n",
              "      <td>1</td>\n",
              "      <td>nicobars district</td>\n",
              "      <td>528</td>\n",
              "      <td>1.139849e+06</td>\n",
              "    </tr>\n",
              "    <tr>\n",
              "      <th>2049</th>\n",
              "      <td>andaman-&amp;-nicobar-islands</td>\n",
              "      <td>2021</td>\n",
              "      <td>4</td>\n",
              "      <td>north and middle andaman district</td>\n",
              "      <td>442</td>\n",
              "      <td>9.316631e+05</td>\n",
              "    </tr>\n",
              "    <tr>\n",
              "      <th>2050</th>\n",
              "      <td>andaman-&amp;-nicobar-islands</td>\n",
              "      <td>2021</td>\n",
              "      <td>4</td>\n",
              "      <td>south andaman district</td>\n",
              "      <td>5688</td>\n",
              "      <td>1.256025e+07</td>\n",
              "    </tr>\n",
              "    <tr>\n",
              "      <th>2051</th>\n",
              "      <td>andaman-&amp;-nicobar-islands</td>\n",
              "      <td>2021</td>\n",
              "      <td>4</td>\n",
              "      <td>nicobars district</td>\n",
              "      <td>528</td>\n",
              "      <td>1.139849e+06</td>\n",
              "    </tr>\n",
              "  </tbody>\n",
              "</table>\n",
              "<p>2052 rows × 6 columns</p>\n",
              "</div>\n",
              "    <div class=\"colab-df-buttons\">\n",
              "\n",
              "  <div class=\"colab-df-container\">\n",
              "    <button class=\"colab-df-convert\" onclick=\"convertToInteractive('df-1146fcbc-a43d-4446-8bf4-39d62a664fc3')\"\n",
              "            title=\"Convert this dataframe to an interactive table.\"\n",
              "            style=\"display:none;\">\n",
              "\n",
              "  <svg xmlns=\"http://www.w3.org/2000/svg\" height=\"24px\" viewBox=\"0 -960 960 960\">\n",
              "    <path d=\"M120-120v-720h720v720H120Zm60-500h600v-160H180v160Zm220 220h160v-160H400v160Zm0 220h160v-160H400v160ZM180-400h160v-160H180v160Zm440 0h160v-160H620v160ZM180-180h160v-160H180v160Zm440 0h160v-160H620v160Z\"/>\n",
              "  </svg>\n",
              "    </button>\n",
              "\n",
              "  <style>\n",
              "    .colab-df-container {\n",
              "      display:flex;\n",
              "      gap: 12px;\n",
              "    }\n",
              "\n",
              "    .colab-df-convert {\n",
              "      background-color: #E8F0FE;\n",
              "      border: none;\n",
              "      border-radius: 50%;\n",
              "      cursor: pointer;\n",
              "      display: none;\n",
              "      fill: #1967D2;\n",
              "      height: 32px;\n",
              "      padding: 0 0 0 0;\n",
              "      width: 32px;\n",
              "    }\n",
              "\n",
              "    .colab-df-convert:hover {\n",
              "      background-color: #E2EBFA;\n",
              "      box-shadow: 0px 1px 2px rgba(60, 64, 67, 0.3), 0px 1px 3px 1px rgba(60, 64, 67, 0.15);\n",
              "      fill: #174EA6;\n",
              "    }\n",
              "\n",
              "    .colab-df-buttons div {\n",
              "      margin-bottom: 4px;\n",
              "    }\n",
              "\n",
              "    [theme=dark] .colab-df-convert {\n",
              "      background-color: #3B4455;\n",
              "      fill: #D2E3FC;\n",
              "    }\n",
              "\n",
              "    [theme=dark] .colab-df-convert:hover {\n",
              "      background-color: #434B5C;\n",
              "      box-shadow: 0px 1px 3px 1px rgba(0, 0, 0, 0.15);\n",
              "      filter: drop-shadow(0px 1px 2px rgba(0, 0, 0, 0.3));\n",
              "      fill: #FFFFFF;\n",
              "    }\n",
              "  </style>\n",
              "\n",
              "    <script>\n",
              "      const buttonEl =\n",
              "        document.querySelector('#df-1146fcbc-a43d-4446-8bf4-39d62a664fc3 button.colab-df-convert');\n",
              "      buttonEl.style.display =\n",
              "        google.colab.kernel.accessAllowed ? 'block' : 'none';\n",
              "\n",
              "      async function convertToInteractive(key) {\n",
              "        const element = document.querySelector('#df-1146fcbc-a43d-4446-8bf4-39d62a664fc3');\n",
              "        const dataTable =\n",
              "          await google.colab.kernel.invokeFunction('convertToInteractive',\n",
              "                                                    [key], {});\n",
              "        if (!dataTable) return;\n",
              "\n",
              "        const docLinkHtml = 'Like what you see? Visit the ' +\n",
              "          '<a target=\"_blank\" href=https://colab.research.google.com/notebooks/data_table.ipynb>data table notebook</a>'\n",
              "          + ' to learn more about interactive tables.';\n",
              "        element.innerHTML = '';\n",
              "        dataTable['output_type'] = 'display_data';\n",
              "        await google.colab.output.renderOutput(dataTable, element);\n",
              "        const docLink = document.createElement('div');\n",
              "        docLink.innerHTML = docLinkHtml;\n",
              "        element.appendChild(docLink);\n",
              "      }\n",
              "    </script>\n",
              "  </div>\n",
              "\n",
              "\n",
              "    <div id=\"df-98a03be3-dd72-4cbd-8301-3637bd0689f5\">\n",
              "      <button class=\"colab-df-quickchart\" onclick=\"quickchart('df-98a03be3-dd72-4cbd-8301-3637bd0689f5')\"\n",
              "                title=\"Suggest charts\"\n",
              "                style=\"display:none;\">\n",
              "\n",
              "<svg xmlns=\"http://www.w3.org/2000/svg\" height=\"24px\"viewBox=\"0 0 24 24\"\n",
              "     width=\"24px\">\n",
              "    <g>\n",
              "        <path d=\"M19 3H5c-1.1 0-2 .9-2 2v14c0 1.1.9 2 2 2h14c1.1 0 2-.9 2-2V5c0-1.1-.9-2-2-2zM9 17H7v-7h2v7zm4 0h-2V7h2v10zm4 0h-2v-4h2v4z\"/>\n",
              "    </g>\n",
              "</svg>\n",
              "      </button>\n",
              "\n",
              "<style>\n",
              "  .colab-df-quickchart {\n",
              "      --bg-color: #E8F0FE;\n",
              "      --fill-color: #1967D2;\n",
              "      --hover-bg-color: #E2EBFA;\n",
              "      --hover-fill-color: #174EA6;\n",
              "      --disabled-fill-color: #AAA;\n",
              "      --disabled-bg-color: #DDD;\n",
              "  }\n",
              "\n",
              "  [theme=dark] .colab-df-quickchart {\n",
              "      --bg-color: #3B4455;\n",
              "      --fill-color: #D2E3FC;\n",
              "      --hover-bg-color: #434B5C;\n",
              "      --hover-fill-color: #FFFFFF;\n",
              "      --disabled-bg-color: #3B4455;\n",
              "      --disabled-fill-color: #666;\n",
              "  }\n",
              "\n",
              "  .colab-df-quickchart {\n",
              "    background-color: var(--bg-color);\n",
              "    border: none;\n",
              "    border-radius: 50%;\n",
              "    cursor: pointer;\n",
              "    display: none;\n",
              "    fill: var(--fill-color);\n",
              "    height: 32px;\n",
              "    padding: 0;\n",
              "    width: 32px;\n",
              "  }\n",
              "\n",
              "  .colab-df-quickchart:hover {\n",
              "    background-color: var(--hover-bg-color);\n",
              "    box-shadow: 0 1px 2px rgba(60, 64, 67, 0.3), 0 1px 3px 1px rgba(60, 64, 67, 0.15);\n",
              "    fill: var(--button-hover-fill-color);\n",
              "  }\n",
              "\n",
              "  .colab-df-quickchart-complete:disabled,\n",
              "  .colab-df-quickchart-complete:disabled:hover {\n",
              "    background-color: var(--disabled-bg-color);\n",
              "    fill: var(--disabled-fill-color);\n",
              "    box-shadow: none;\n",
              "  }\n",
              "\n",
              "  .colab-df-spinner {\n",
              "    border: 2px solid var(--fill-color);\n",
              "    border-color: transparent;\n",
              "    border-bottom-color: var(--fill-color);\n",
              "    animation:\n",
              "      spin 1s steps(1) infinite;\n",
              "  }\n",
              "\n",
              "  @keyframes spin {\n",
              "    0% {\n",
              "      border-color: transparent;\n",
              "      border-bottom-color: var(--fill-color);\n",
              "      border-left-color: var(--fill-color);\n",
              "    }\n",
              "    20% {\n",
              "      border-color: transparent;\n",
              "      border-left-color: var(--fill-color);\n",
              "      border-top-color: var(--fill-color);\n",
              "    }\n",
              "    30% {\n",
              "      border-color: transparent;\n",
              "      border-left-color: var(--fill-color);\n",
              "      border-top-color: var(--fill-color);\n",
              "      border-right-color: var(--fill-color);\n",
              "    }\n",
              "    40% {\n",
              "      border-color: transparent;\n",
              "      border-right-color: var(--fill-color);\n",
              "      border-top-color: var(--fill-color);\n",
              "    }\n",
              "    60% {\n",
              "      border-color: transparent;\n",
              "      border-right-color: var(--fill-color);\n",
              "    }\n",
              "    80% {\n",
              "      border-color: transparent;\n",
              "      border-right-color: var(--fill-color);\n",
              "      border-bottom-color: var(--fill-color);\n",
              "    }\n",
              "    90% {\n",
              "      border-color: transparent;\n",
              "      border-bottom-color: var(--fill-color);\n",
              "    }\n",
              "  }\n",
              "</style>\n",
              "\n",
              "      <script>\n",
              "        async function quickchart(key) {\n",
              "          const quickchartButtonEl =\n",
              "            document.querySelector('#' + key + ' button');\n",
              "          quickchartButtonEl.disabled = true;  // To prevent multiple clicks.\n",
              "          quickchartButtonEl.classList.add('colab-df-spinner');\n",
              "          try {\n",
              "            const charts = await google.colab.kernel.invokeFunction(\n",
              "                'suggestCharts', [key], {});\n",
              "          } catch (error) {\n",
              "            console.error('Error during call to suggestCharts:', error);\n",
              "          }\n",
              "          quickchartButtonEl.classList.remove('colab-df-spinner');\n",
              "          quickchartButtonEl.classList.add('colab-df-quickchart-complete');\n",
              "        }\n",
              "        (() => {\n",
              "          let quickchartButtonEl =\n",
              "            document.querySelector('#df-98a03be3-dd72-4cbd-8301-3637bd0689f5 button');\n",
              "          quickchartButtonEl.style.display =\n",
              "            google.colab.kernel.accessAllowed ? 'block' : 'none';\n",
              "        })();\n",
              "      </script>\n",
              "    </div>\n",
              "\n",
              "  <div id=\"id_213b6f2f-b31d-465f-beca-feeaa8ae6151\">\n",
              "    <style>\n",
              "      .colab-df-generate {\n",
              "        background-color: #E8F0FE;\n",
              "        border: none;\n",
              "        border-radius: 50%;\n",
              "        cursor: pointer;\n",
              "        display: none;\n",
              "        fill: #1967D2;\n",
              "        height: 32px;\n",
              "        padding: 0 0 0 0;\n",
              "        width: 32px;\n",
              "      }\n",
              "\n",
              "      .colab-df-generate:hover {\n",
              "        background-color: #E2EBFA;\n",
              "        box-shadow: 0px 1px 2px rgba(60, 64, 67, 0.3), 0px 1px 3px 1px rgba(60, 64, 67, 0.15);\n",
              "        fill: #174EA6;\n",
              "      }\n",
              "\n",
              "      [theme=dark] .colab-df-generate {\n",
              "        background-color: #3B4455;\n",
              "        fill: #D2E3FC;\n",
              "      }\n",
              "\n",
              "      [theme=dark] .colab-df-generate:hover {\n",
              "        background-color: #434B5C;\n",
              "        box-shadow: 0px 1px 3px 1px rgba(0, 0, 0, 0.15);\n",
              "        filter: drop-shadow(0px 1px 2px rgba(0, 0, 0, 0.3));\n",
              "        fill: #FFFFFF;\n",
              "      }\n",
              "    </style>\n",
              "    <button class=\"colab-df-generate\" onclick=\"generateWithVariable('map_hover_trans_data_df')\"\n",
              "            title=\"Generate code using this dataframe.\"\n",
              "            style=\"display:none;\">\n",
              "\n",
              "  <svg xmlns=\"http://www.w3.org/2000/svg\" height=\"24px\"viewBox=\"0 0 24 24\"\n",
              "       width=\"24px\">\n",
              "    <path d=\"M7,19H8.4L18.45,9,17,7.55,7,17.6ZM5,21V16.75L18.45,3.32a2,2,0,0,1,2.83,0l1.4,1.43a1.91,1.91,0,0,1,.58,1.4,1.91,1.91,0,0,1-.58,1.4L9.25,21ZM18.45,9,17,7.55Zm-12,3A5.31,5.31,0,0,0,4.9,8.1,5.31,5.31,0,0,0,1,6.5,5.31,5.31,0,0,0,4.9,4.9,5.31,5.31,0,0,0,6.5,1,5.31,5.31,0,0,0,8.1,4.9,5.31,5.31,0,0,0,12,6.5,5.46,5.46,0,0,0,6.5,12Z\"/>\n",
              "  </svg>\n",
              "    </button>\n",
              "    <script>\n",
              "      (() => {\n",
              "      const buttonEl =\n",
              "        document.querySelector('#id_213b6f2f-b31d-465f-beca-feeaa8ae6151 button.colab-df-generate');\n",
              "      buttonEl.style.display =\n",
              "        google.colab.kernel.accessAllowed ? 'block' : 'none';\n",
              "\n",
              "      buttonEl.onclick = () => {\n",
              "        google.colab.notebook.generateWithVariable('map_hover_trans_data_df');\n",
              "      }\n",
              "      })();\n",
              "    </script>\n",
              "  </div>\n",
              "\n",
              "    </div>\n",
              "  </div>\n"
            ],
            "application/vnd.google.colaboratory.intrinsic+json": {
              "type": "dataframe",
              "variable_name": "map_hover_trans_data_df",
              "summary": "{\n  \"name\": \"map_hover_trans_data_df\",\n  \"rows\": 2052,\n  \"fields\": [\n    {\n      \"column\": \"States\",\n      \"properties\": {\n        \"dtype\": \"category\",\n        \"num_unique_values\": 36,\n        \"samples\": [\n          \"andaman-&-nicobar-islands\",\n          \"tamil-nadu\",\n          \"maharashtra\"\n        ],\n        \"semantic_type\": \"\",\n        \"description\": \"\"\n      }\n    },\n    {\n      \"column\": \"Years\",\n      \"properties\": {\n        \"dtype\": \"object\",\n        \"num_unique_values\": 5,\n        \"samples\": [\n          \"2020\",\n          \"2021\",\n          \"2022\"\n        ],\n        \"semantic_type\": \"\",\n        \"description\": \"\"\n      }\n    },\n    {\n      \"column\": \"Quarter\",\n      \"properties\": {\n        \"dtype\": \"number\",\n        \"std\": 1,\n        \"min\": 1,\n        \"max\": 4,\n        \"num_unique_values\": 4,\n        \"samples\": [\n          3,\n          4,\n          2\n        ],\n        \"semantic_type\": \"\",\n        \"description\": \"\"\n      }\n    },\n    {\n      \"column\": \"district\",\n      \"properties\": {\n        \"dtype\": \"category\",\n        \"num_unique_values\": 3,\n        \"samples\": [\n          \"north and middle andaman district\",\n          \"south andaman district\",\n          \"nicobars district\"\n        ],\n        \"semantic_type\": \"\",\n        \"description\": \"\"\n      }\n    },\n    {\n      \"column\": \"transaction_count\",\n      \"properties\": {\n        \"dtype\": \"number\",\n        \"std\": 2453,\n        \"min\": 442,\n        \"max\": 5688,\n        \"num_unique_values\": 3,\n        \"samples\": [\n          442,\n          5688,\n          528\n        ],\n        \"semantic_type\": \"\",\n        \"description\": \"\"\n      }\n    },\n    {\n      \"column\": \"transaction_amount\",\n      \"properties\": {\n        \"dtype\": \"number\",\n        \"std\": 5434687.474502357,\n        \"min\": 931663.0770939873,\n        \"max\": 12560249.34366581,\n        \"num_unique_values\": 3,\n        \"samples\": [\n          931663.0770939873,\n          12560249.34366581,\n          1139848.801225994\n        ],\n        \"semantic_type\": \"\",\n        \"description\": \"\"\n      }\n    }\n  ]\n}"
            }
          },
          "metadata": {},
          "execution_count": 64
        }
      ]
    },
    {
      "cell_type": "markdown",
      "source": [
        "#User_hover"
      ],
      "metadata": {
        "id": "FM_T0BAfj0h3"
      }
    },
    {
      "cell_type": "code",
      "source": [
        "map_hover_user_state_path=\"/content/pulse/data/map/transaction/hover/country/india/state\"\n",
        "map_hover_user_state_list=os.listdir(map_hover_user_state_path)\n",
        "map_hover_user_state_list"
      ],
      "metadata": {
        "id": "fUdRdXMbVU_U"
      },
      "execution_count": null,
      "outputs": []
    },
    {
      "cell_type": "code",
      "source": [
        "for state in map_hover_user_state_list:\n",
        "    years=os.listdir(f\"{map_hover_user_state_path}/{state}\")\n",
        "    for year in years:\n",
        "        quarter=os.listdir(f\"{map_hover_user_state_path}/{state}/{year}\")\n",
        "        for qtr in quarter:\n",
        "           path=f\"{map_hover_user_state_path}/{state}/{year}/{qtr}\"\n",
        "           print(path)"
      ],
      "metadata": {
        "id": "4jE2sRttWCg-"
      },
      "execution_count": null,
      "outputs": []
    },
    {
      "cell_type": "code",
      "source": [
        "map_hover_trans_user_path=\"/content/pulse/data/map/user/hover/country/india/state/andaman-&-nicobar-islands/2018/1.json\"\n",
        "with open(map_hover_trans_user_path,'r') as f:\n",
        "  data=json.load(f)\n",
        "data"
      ],
      "metadata": {
        "colab": {
          "base_uri": "https://localhost:8080/"
        },
        "id": "u0RTCuCiWnKD",
        "outputId": "fb396d48-510b-4645-a893-5b15821bf090"
      },
      "execution_count": null,
      "outputs": [
        {
          "output_type": "execute_result",
          "data": {
            "text/plain": [
              "{'success': True,\n",
              " 'code': 'SUCCESS',\n",
              " 'data': {'hoverData': {'north and middle andaman district': {'registeredUsers': 632,\n",
              "    'appOpens': 0},\n",
              "   'south andaman district': {'registeredUsers': 5846, 'appOpens': 0},\n",
              "   'nicobars district': {'registeredUsers': 262, 'appOpens': 0}}},\n",
              " 'responseTimestamp': 1630502911500}"
            ]
          },
          "metadata": {},
          "execution_count": 40
        }
      ]
    },
    {
      "cell_type": "code",
      "source": [
        "data.keys()"
      ],
      "metadata": {
        "colab": {
          "base_uri": "https://localhost:8080/"
        },
        "id": "yfEX1UepXDgw",
        "outputId": "5892f3c4-c37d-4ba3-f544-f2bf4032f968"
      },
      "execution_count": null,
      "outputs": [
        {
          "output_type": "execute_result",
          "data": {
            "text/plain": [
              "dict_keys(['success', 'code', 'data', 'responseTimestamp'])"
            ]
          },
          "metadata": {},
          "execution_count": 41
        }
      ]
    },
    {
      "cell_type": "code",
      "source": [
        "data['data']['hoverData']"
      ],
      "metadata": {
        "colab": {
          "base_uri": "https://localhost:8080/"
        },
        "id": "W7U3z-hoXGkq",
        "outputId": "00b4327a-1e98-4901-ed4d-9a3310b32176"
      },
      "execution_count": null,
      "outputs": [
        {
          "output_type": "execute_result",
          "data": {
            "text/plain": [
              "{'north and middle andaman district': {'registeredUsers': 632, 'appOpens': 0},\n",
              " 'south andaman district': {'registeredUsers': 5846, 'appOpens': 0},\n",
              " 'nicobars district': {'registeredUsers': 262, 'appOpens': 0}}"
            ]
          },
          "metadata": {},
          "execution_count": 43
        }
      ]
    },
    {
      "cell_type": "code",
      "source": [
        "map_hover_trans_user_data={'States':[], 'Years':[], 'Quarter':[], 'district':[], 'registeredUsers':[], 'appOpens':[]}\n",
        "\n",
        "\n",
        "for state in map_hover_user_state_list:\n",
        "    years=os.listdir(f\"{map_hover_user_state_path}/{state}\")\n",
        "    for year in years:\n",
        "        quarter=os.listdir(f\"{map_hover_user_state_path}/{state}/{year}\")\n",
        "        for qtr in quarter:\n",
        "           path=f\"{map_hover_user_state_path}/{state}/{year}/{qtr}\"\n",
        "           #print(path)\n",
        "\n",
        "           with open(map_hover_trans_user_path,'r') as f:\n",
        "              data=json.load(f)\n",
        "           #print(data)\n",
        "\n",
        "           for i in data['data']['hoverData']:\n",
        "             district=['name']\n",
        "             registeredUsers=int(i['registeredUsers'])\n",
        "             appOpens=int(i['appOpens'])\n",
        "             map_hover_trans_data['district'].append(district)\n",
        "             map_hover_trans_user_data['registeredUsers'].append(registeredUsers)\n",
        "             map_hover_trans_user_data['appOpens'].append(appOpens)\n",
        "             map_hover_trans_user_data['States'].append(state)\n",
        "             map_hover_trans_user_data['Years'].append(year)\n",
        "             map_hover_trans_user_data['Quarter'].append(int(qtr.strip(\".json\")))\n",
        "map_hover_trans_user_data"
      ],
      "metadata": {
        "colab": {
          "base_uri": "https://localhost:8080/",
          "height": 219
        },
        "id": "J51m_WIpX62L",
        "outputId": "b5f6122e-40cb-401b-9284-fe14207e4520"
      },
      "execution_count": null,
      "outputs": [
        {
          "output_type": "error",
          "ename": "TypeError",
          "evalue": "string indices must be integers, not 'str'",
          "traceback": [
            "\u001b[0;31m---------------------------------------------------------------------------\u001b[0m",
            "\u001b[0;31mTypeError\u001b[0m                                 Traceback (most recent call last)",
            "\u001b[0;32m/tmp/ipython-input-80-1099378536.py\u001b[0m in \u001b[0;36m<cell line: 0>\u001b[0;34m()\u001b[0m\n\u001b[1;32m     16\u001b[0m            \u001b[0;32mfor\u001b[0m \u001b[0mi\u001b[0m \u001b[0;32min\u001b[0m \u001b[0mdata\u001b[0m\u001b[0;34m[\u001b[0m\u001b[0;34m'data'\u001b[0m\u001b[0;34m]\u001b[0m\u001b[0;34m[\u001b[0m\u001b[0;34m'hoverData'\u001b[0m\u001b[0;34m]\u001b[0m\u001b[0;34m:\u001b[0m\u001b[0;34m\u001b[0m\u001b[0;34m\u001b[0m\u001b[0m\n\u001b[1;32m     17\u001b[0m              \u001b[0mdistrict\u001b[0m\u001b[0;34m=\u001b[0m\u001b[0;34m[\u001b[0m\u001b[0;34m'name'\u001b[0m\u001b[0;34m]\u001b[0m\u001b[0;34m\u001b[0m\u001b[0;34m\u001b[0m\u001b[0m\n\u001b[0;32m---> 18\u001b[0;31m              \u001b[0mregisteredUsers\u001b[0m\u001b[0;34m=\u001b[0m\u001b[0mint\u001b[0m\u001b[0;34m(\u001b[0m\u001b[0mi\u001b[0m\u001b[0;34m[\u001b[0m\u001b[0;34m'registeredUsers'\u001b[0m\u001b[0;34m]\u001b[0m\u001b[0;34m)\u001b[0m\u001b[0;34m\u001b[0m\u001b[0;34m\u001b[0m\u001b[0m\n\u001b[0m\u001b[1;32m     19\u001b[0m              \u001b[0mappOpens\u001b[0m\u001b[0;34m=\u001b[0m\u001b[0mint\u001b[0m\u001b[0;34m(\u001b[0m\u001b[0mi\u001b[0m\u001b[0;34m[\u001b[0m\u001b[0;34m'appOpens'\u001b[0m\u001b[0;34m]\u001b[0m\u001b[0;34m)\u001b[0m\u001b[0;34m\u001b[0m\u001b[0;34m\u001b[0m\u001b[0m\n\u001b[1;32m     20\u001b[0m              \u001b[0mmap_hover_trans_data\u001b[0m\u001b[0;34m[\u001b[0m\u001b[0;34m'district'\u001b[0m\u001b[0;34m]\u001b[0m\u001b[0;34m.\u001b[0m\u001b[0mappend\u001b[0m\u001b[0;34m(\u001b[0m\u001b[0mdistrict\u001b[0m\u001b[0;34m)\u001b[0m\u001b[0;34m\u001b[0m\u001b[0;34m\u001b[0m\u001b[0m\n",
            "\u001b[0;31mTypeError\u001b[0m: string indices must be integers, not 'str'"
          ]
        }
      ]
    }
  ]
}